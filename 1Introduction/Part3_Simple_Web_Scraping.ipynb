{
 "cells": [
  {
   "cell_type": "markdown",
   "metadata": {},
   "source": [
    "# Introduction"
   ]
  },
  {
   "cell_type": "markdown",
   "metadata": {},
   "source": [
    "Avant de commencer, parcourer le fichier README.rst"
   ]
  },
  {
   "cell_type": "markdown",
   "metadata": {},
   "source": [
    "# Requête HTTP "
   ]
  },
  {
   "cell_type": "markdown",
   "metadata": {},
   "source": [
    "Un requête HTTP est une requête basé sur le protocole TCP, elle fait partie de la couche application de la couche OSI. Elle permet d'accéder aux données mise à disposition sur une adresse IP (ou url résolue par un DNS) et un port. \n",
    "\n",
    "Les deux ports les plus utilisé dans le web sont le 80 pour les sites en HTTP et le 443 pour les sites en HTTPS. HTTPS est une variable du protocole HTTP basé sur le protocole TLS.\n",
    "\n",
    "Il existe de nombreux types de requêtes selon la convention `REST`: \n",
    "- GET\n",
    "- POST\n",
    "- PUT \n",
    "- DELETE\n",
    "- UPDATE.\n",
    "\n",
    "Dans notre cas nous allons utiliser la plupart du temps des GET et potentiellement des POST. \n",
    "- Le GET permet comme sont nom l'indique de récupérer des informations en fonction de certain paramètres. \n",
    "- Le POST nécéssite un envoie de données pour récupérer des données. Le body du post est, la plupart du temps, envoyé sous la forme d'un objet JSON.\n",
    "\n",
    "Ces requêtes encapsulent un certain nombre de paramètres qui permettent soient d'identifier une provenance et un utilisateur ou de réaliser différentes actions."
   ]
  },
  {
   "cell_type": "code",
   "execution_count": 7,
   "metadata": {},
   "outputs": [],
   "source": [
    "import requests"
   ]
  },
  {
   "cell_type": "code",
   "execution_count": 8,
   "metadata": {},
   "outputs": [
    {
     "data": {
      "text/plain": [
       "200"
      ]
     },
     "execution_count": 8,
     "metadata": {},
     "output_type": "execute_result"
    }
   ],
   "source": [
    "url = \"http://www.esiee.fr/\"\n",
    "response = requests.get(url)\n",
    "response.status_code"
   ]
  },
  {
   "cell_type": "markdown",
   "metadata": {},
   "source": [
    "Il existe deux méthodes pour récupérer le contenu de la page :\n",
    "\n",
    "- `response.text` qui permet de retourner le texte sous la forme d'une chaine de charactères.\n",
    "- `response.content` qui permet de récupérer le contenu de la page sous la forme de bytes"
   ]
  },
  {
   "cell_type": "code",
   "execution_count": 9,
   "metadata": {},
   "outputs": [
    {
     "data": {
      "text/plain": [
       "bytes"
      ]
     },
     "execution_count": 9,
     "metadata": {},
     "output_type": "execute_result"
    }
   ],
   "source": [
    "type(response.content)"
   ]
  },
  {
   "cell_type": "code",
   "execution_count": 10,
   "metadata": {},
   "outputs": [
    {
     "data": {
      "text/plain": [
       "str"
      ]
     },
     "execution_count": 10,
     "metadata": {},
     "output_type": "execute_result"
    }
   ],
   "source": [
    "type(response.text)"
   ]
  },
  {
   "cell_type": "markdown",
   "metadata": {},
   "source": [
    "Pour récupérer les 1000 premiers charactères de la page :"
   ]
  },
  {
   "cell_type": "code",
   "execution_count": 11,
   "metadata": {},
   "outputs": [
    {
     "data": {
      "text/plain": [
       "'<!DOCTYPE html>\\r\\n<!--[if lt IE 7]>      <html class=\"no-js lt-ie9 lt-ie8 lt-ie7\"> <![endif]-->\\r\\n<!--[if IE 7]>         <html class=\"no-js lt-ie9 lt-ie8\"> <![endif]-->\\r\\n<!--[if IE 8]>         <html class=\"no-js lt-ie9\"> <![endif]-->\\r\\n<!--[if IE 9]>         <html class=\"no-js ie9\"> <![endif]-->\\r\\n<!--[if gt IE 9]><!--> <html class=\"no-js\"> <!--<![endif]-->\\r\\n<head profile=\"http://www.w3.org/1999/xhtml/vocab\">\\r\\n\\t<!-- Google Tag Manager -->\\r\\n\\t <script>\\r\\n\\t\\t(function(w,d,s,l,i){\\r\\n\\t\\t\\tw[l]=w[l]||[];w[l].push({\\'gtm.start\\':new Date().getTime(),event:\\'gtm.js\\'});\\r\\n\\t\\t\\tvar f=d.getElementsByTagName(s)[0],\\tj=d.createElement(s),dl=l!=\\'dataLayer\\'?\\'&l=\\'+l:\\'\\';\\r\\n\\t\\t\\tj.async=true;\\r\\n\\t\\t\\tj.src=\\'https://www.googletagmanager.com/gtm.js?id=\\'+i+dl;f.parentNode.insertBefore(j,f);\\r\\n\\t\\t\\t}\\r\\n\\t\\t)\\r\\n\\t\\t(window,document,\\'script\\',\\'dataLayer\\',\\'GTM-MQF5LJB\\');\\r\\n\\t</script>\\r\\n\\t<!-- End Google Tag Manager -->\\r\\n  <meta name=\"google-site-verification\" content=\"JnG7DTdhQuWTeSHlWC63CeWpb3WValiOorksYjoYOWI\" />\\r\\n  <meta http-equiv=\"Content-T'"
      ]
     },
     "execution_count": 11,
     "metadata": {},
     "output_type": "execute_result"
    }
   ],
   "source": [
    "response.text[0:1000]"
   ]
  },
  {
   "cell_type": "markdown",
   "metadata": {},
   "source": [
    "Pour récupérer les headers HTTP de la réponse :"
   ]
  },
  {
   "cell_type": "code",
   "execution_count": 12,
   "metadata": {},
   "outputs": [
    {
     "data": {
      "text/plain": [
       "{'Date': 'Wed, 05 Jan 2022 14:01:35 GMT', 'Server': 'Apache/2.4.25 (Debian)', 'Expires': 'Sun, 19 Nov 1978 05:00:00 GMT', 'Cache-Control': 'no-cache, must-revalidate', 'X-Content-Type-Options': 'nosniff', 'Content-Language': 'fr', 'X-Frame-Options': 'SAMEORIGIN', 'Permissions-Policy': 'interest-cohort=()', 'X-Generator': 'Drupal 7 (http://drupal.org)', 'Vary': 'Accept-Encoding', 'Content-Encoding': 'gzip', 'Content-Length': '16828', 'Keep-Alive': 'timeout=5, max=150', 'Connection': 'Keep-Alive', 'Content-Type': 'text/html; charset=utf-8'}"
      ]
     },
     "execution_count": 12,
     "metadata": {},
     "output_type": "execute_result"
    }
   ],
   "source": [
    "response.headers"
   ]
  },
  {
   "cell_type": "markdown",
   "metadata": {},
   "source": [
    "On peut modifier les paramêtres de la requête et/ou ses headers. On peut par exemple ajouter un UserAgent et un timeout de 10 secondes:"
   ]
  },
  {
   "cell_type": "code",
   "execution_count": 13,
   "metadata": {},
   "outputs": [
    {
     "data": {
      "text/plain": [
       "b'<!DOCTYPE html>\\r\\n<!--[if lt IE 7]>      <html class=\"no-js lt-ie9 lt-ie8 lt-ie7\"> <![endif]-->\\r\\n<!--[if IE 7]>         <html class=\"no-js lt-ie9 lt-ie8\"> <![endif]-->\\r\\n<!--[if IE 8]>         <html class=\"no-js lt-ie9\"> <![endif]-->\\r\\n<!--[if IE 9]>         <html class=\"no-js ie9\"> <![endif]-->\\r\\n<!--[if gt IE 9]><!--> <html class=\"no-js\"> <!--<![endif]-->\\r\\n<head profile=\"http://www.w3.org/1999/xhtml/vocab\">\\r\\n\\t<!-- Google Tag Manager -->\\r\\n\\t <script>\\r\\n\\t\\t(function(w,d,s,l,i){\\r\\n\\t\\t\\tw[l]=w[l]||[];w[l].push({\\'gtm.start\\':new Date().getTime(),event:\\'gtm.js\\'});\\r\\n\\t\\t\\tvar f=d.getElementsByTagName(s)[0],\\tj=d.createElement(s),dl=l!=\\'dataLayer\\'?\\'&l=\\'+l:\\'\\';\\r\\n\\t\\t\\tj.async=true;\\r\\n\\t\\t\\tj.src=\\'https://www.googletagmanager.com/gtm.js?id=\\'+i+dl;f.parentNode.insertBefore(j,f);\\r\\n\\t\\t\\t}\\r\\n\\t\\t)\\r\\n\\t\\t(window,document,\\'script\\',\\'dataLayer\\',\\'GTM-MQF5LJB\\');\\r\\n\\t</script>\\r\\n\\t<!-- End Google Tag Manager -->\\r\\n  <meta name=\"google-site-verification\" content=\"JnG7DTdhQuWTeSHlWC63CeWpb3WValiOorksYjoYOWI\" />\\r\\n  <meta http-equiv=\"Content-T'"
      ]
     },
     "execution_count": 13,
     "metadata": {},
     "output_type": "execute_result"
    }
   ],
   "source": [
    "headers = {'User-Agent': 'Mozilla/5.0 (Macintosh; Intel Mac OS X 10_10_1) AppleWebKit/537.36 (KHTML, like Gecko) Chrome/39.0.2171.95 Safari/537.36'}\n",
    "response = requests.get(url, headers=headers, timeout = 10)\n",
    "response.content[0:1000]"
   ]
  },
  {
   "cell_type": "markdown",
   "metadata": {},
   "source": [
    "## Exercice"
   ]
  },
  {
   "cell_type": "markdown",
   "metadata": {},
   "source": [
    "## Exercice 1\n",
    "\n",
    "- Créer une classe Python permettant de faire des requêtes HTTP.\n",
    "- Cette classe doit utiliser toujours le même UserAgent.\n",
    "- Le TimeOut sera spécifié à chaque appelle avec une valeur par défaut.\n",
    "- Un mécanisme de retry sera mis en place de façon recursive.\n",
    "\n",
    "## Exercice 2\n",
    "\n",
    "- Faire une fonction permettant de supprimer tous les espaces supperflus d'une string\n",
    "- Faire une fonction qui prend une string html et renvois une string intelligible (enlever les caractères spéciaux,\n",
    "- Récupérer le domaine en fonction d'un url"
   ]
  },
  {
   "cell_type": "code",
   "execution_count": 16,
   "metadata": {},
   "outputs": [],
   "source": [
    "import requests\n",
    "\n",
    "class RequestsHTML :\n",
    "\n",
    "    headers = {'User-Agent': 'Mozilla/5.0 (Macintosh; Intel Mac OS X 10_10_1) AppleWebKit/537.36 (KHTML, like Gecko) Chrome/39.0.2171.95 Safari/537.36'}\n",
    "    timeout=10\n",
    "\n",
    "    def __init__(self,url):\n",
    "        self.url=url\n",
    "\n",
    "    def getRequest(self,header):\n",
    "        return requests.get(self.url,headers=header, timeout = self.timeout)\n",
    "\n",
    "    def delSpaceInString(self):\n",
    "        r = self.getRequest(self.headers)\n",
    "        r = r.text[0:1000]\n",
    "        while \"  \" in r : r = r.replace(\"  \",\" \")\n",
    "        return r\n",
    "    \n",
    "    def delSpacialsCar(self):\n",
    "        s = self.delSpaceInString()\n",
    "        special ='<>!-[]{}◊/\\t=\\n:\";+?'+\"'\"\n",
    "        for i in special :    \n",
    "            s = s.replace(i, \"\")\n",
    "        return s\n",
    "    def getDomaineName(self):\n",
    "        s = \"htp:/w\"\n",
    "        url2 = self.url\n",
    "        for i in s :    \n",
    "            url2 = url2.replace(i, \"\")\n",
    "        \n",
    "        return url2"
   ]
  },
  {
   "cell_type": "code",
   "execution_count": 17,
   "metadata": {},
   "outputs": [
    {
     "data": {
      "text/plain": [
       "'.esiee.fr'"
      ]
     },
     "execution_count": 17,
     "metadata": {},
     "output_type": "execute_result"
    }
   ],
   "source": [
    "a = RequestsHTML(\"http://www.esiee.fr/\")\n",
    "a.getDomaineName()"
   ]
  },
  {
   "cell_type": "markdown",
   "metadata": {},
   "source": [
    "# Exploitation du HTML  "
   ]
  },
  {
   "cell_type": "markdown",
   "metadata": {},
   "source": [
    "Ici, il faut récupérer le code HTML d'un site web à partir d'une requête. Lorsque vous avez récupéré le texte d'un site il faut le parser. Pour cela, on utilise BeautifulSoup qui permet de transformer la structure HTML en objet Python. Cela permet de récupérer efficacement les données qui nous intéresse.\n",
    "\n",
    "Pour les webmasters, le blocage le plus souvent mis en place et un blocage sur le User-Agent. Le User-Agent est un paramètre intégré dans la requête HTTP réalisé par le Navigateur pour envoyer au front des informations basiques :\n",
    "\n",
    "- la version du Navigateur,\n",
    "- la version de l'OS\n",
    "- Le type de gestionnaire graphique (Gecko)\n",
    "- le type de device utilisé"
   ]
  },
  {
   "cell_type": "markdown",
   "metadata": {},
   "source": [
    "Exemple de User Agent :  \n",
    "\n",
    "`Mozilla/5.0 (Windows NT 6.1; Win64; x64; rv:47.0) Gecko/20100101 Firefox/47.0`"
   ]
  },
  {
   "cell_type": "markdown",
   "metadata": {},
   "source": [
    "Commençons à utiliser `BeautifulSoup`, pour l'installer : "
   ]
  },
  {
   "cell_type": "code",
   "execution_count": 22,
   "metadata": {},
   "outputs": [
    {
     "name": "stdout",
     "output_type": "stream",
     "text": [
      "Requirement already satisfied: bs4 in /root/.local/share/virtualenvs/code-AFz48Hjb/lib/python3.8/site-packages (0.0.1)\r\n",
      "Requirement already satisfied: beautifulsoup4 in /root/.local/share/virtualenvs/code-AFz48Hjb/lib/python3.8/site-packages (from bs4) (4.9.3)\r\n",
      "Requirement already satisfied: soupsieve>1.2 in /root/.local/share/virtualenvs/code-AFz48Hjb/lib/python3.8/site-packages (from beautifulsoup4->bs4) (2.0.1)\r\n"
     ]
    }
   ],
   "source": [
    "!pip install bs4\n",
    "!pip install lxml"
   ]
  },
  {
   "cell_type": "code",
   "execution_count": 23,
   "metadata": {},
   "outputs": [],
   "source": [
    "import requests\n",
    "from bs4 import BeautifulSoup"
   ]
  },
  {
   "cell_type": "markdown",
   "metadata": {},
   "source": [
    "Pour transformer une requête (requests) en objet BeautifulSoup :"
   ]
  },
  {
   "cell_type": "code",
   "execution_count": 24,
   "metadata": {},
   "outputs": [],
   "source": [
    "response = requests.get(url)\n",
    "soup = BeautifulSoup(response.text)"
   ]
  },
  {
   "cell_type": "markdown",
   "metadata": {},
   "source": [
    "Pour trouver tous les liens d'une page on récupère la balise `a` qui permet de gérer les liens en HTML  :"
   ]
  },
  {
   "cell_type": "code",
   "execution_count": 26,
   "metadata": {},
   "outputs": [
    {
     "data": {
      "text/plain": [
       "[<a href=\"#\">\n",
       " <i class=\"icon-parametres\"></i>\n",
       " </a>,\n",
       " <a href=\"https://gmail.com\" target=\"_blank\" title=\"Webmail ESIEE Paris\"><i><img alt=\"\" src=\"https://www.esiee.fr/sites/default/files/menu_icons/menu_icon_950.png\"/> </i><span>Webmail ESIEE Paris</span></a>,\n",
       " <a href=\"https://planif.esiee.fr/direct/\" target=\"_blank\" title=\"Emploi du temps général\"><i><img alt=\"\" src=\"https://www.esiee.fr/sites/default/files/menu_icons/menu_icon_1331.png\"/> </i><span>Emploi du temps général</span></a>,\n",
       " <a href=\"https://planif.esiee.fr/jsp/custom/esiee/easyMyPlanning.jsp\" target=\"_blank\" title=\"Emploi du temps individuel\"><i><img alt=\"\" src=\"https://www.esiee.fr/sites/default/files/menu_icons/menu_icon_1332.png\"/> </i><span>Emploi du temps individuel</span></a>,\n",
       " <a href=\"https://intra.esiee.fr\" target=\"_blank\" title=\"Extranet\"><i><img alt=\"\" src=\"https://www.esiee.fr/sites/default/files/menu_icons/menu_icon_951.png\"/> </i><span>Extranet</span></a>,\n",
       " <a href=\"https://blackboard.esiee.fr\" target=\"_blank\" title=\"iCampus Blackboard\"><i><img alt=\"\" src=\"https://www.esiee.fr/sites/default/files/menu_icons/menu_icon_1311.png\"/> </i><span>iCampus Blackboard</span></a>,\n",
       " <a href=\"http://e5.onthehub.com/WebStore/Welcome.aspx?vsro=8&amp;ws=45AD823E-799B-E011-969D-0030487D8897&amp;JSEnabled=1\" target=\"_blank\" title=\"Microsoft DreamSpark\"><i><img alt=\"\" src=\"https://www.esiee.fr/sites/default/files/menu_icons/menu_icon_1696.png\"/> </i><span>Microsoft DreamSpark</span></a>,\n",
       " <a href=\"/en\">\n",
       " <i>\n",
       " <img alt=\"English\" src=\"/sites/all/themes/custom/esiee_theme/assets/images/flag-en.png\"/>\n",
       " </i>\n",
       " </a>,\n",
       " <a href=\"https://www.facebook.com/esieeparis\" target=\"_blank\">\n",
       " <i class=\"fa fa-facebook\"></i>\n",
       " </a>,\n",
       " <a href=\"https://twitter.com/ESIEEPARIS\" target=\"_blank\">\n",
       " <i class=\"fa fa-twitter\"></i>\n",
       " </a>]"
      ]
     },
     "execution_count": 26,
     "metadata": {},
     "output_type": "execute_result"
    }
   ],
   "source": [
    "soup.find_all(\"a\")[0:10]"
   ]
  },
  {
   "cell_type": "markdown",
   "metadata": {},
   "source": [
    "On peut préciser la classe HTML voulue  pour l'ensemble des `a`:\n",
    "\n",
    "```python\n",
    "soup.find_all(class_=\"<CLASS_NAME>\")[0:10]\n",
    "```\n",
    "\n",
    "Ici par exemple: "
   ]
  },
  {
   "cell_type": "code",
   "execution_count": 44,
   "metadata": {},
   "outputs": [
    {
     "data": {
      "text/plain": [
       "[<div class=\"slide slide-content\">\n",
       " <span class=\"slide-content-date inline-block\"><span class=\"date-display-single\">17.12.2021</span></span>\n",
       " <span class=\"slide-content-theme inline-block is-uppercase\">Salons</span>\n",
       " <div class=\"clearfix\"></div>\n",
       " <div class=\"slide-content-img pull-left\"><!-- scald=3222:news_thumbnail --><img alt=\"Salon ESIEE Paris\" height=\"90\" src=\"https://www.esiee.fr/sites/default/files/styles/news/public/thumbnails/image/visuel-etudiants-esiee-salon-920x600.jpg?itok=MPsA2Lo-\" title=\"Salon ESIEE Paris\" width=\"120\"/><!-- END scald=3222 --></div>\n",
       " <span class=\"slide-content-title\"><a class=\"is-uppercase\" href=\"/fr/actualite/salon-apprentissage-letudiant-2022\">Retrouvez ESIEE Paris au salon de l'apprentissage</a></span>\n",
       " <div class=\"clearfix\"></div>\n",
       " <p class=\"slide-content-desc\">ESIEE Paris vous donne rendez-vous les 14 et 15 janvier 2022 au salon de l'apprentissage organisé par l’Étudiant à Paris.</p> </div>,\n",
       " <div class=\"slide slide-content\">\n",
       " <span class=\"slide-content-date inline-block\"><span class=\"date-display-single\">12.03.2021</span></span>\n",
       " <span class=\"slide-content-theme inline-block is-uppercase\">Classement</span>\n",
       " <div class=\"clearfix\"></div>\n",
       " <div class=\"slide-content-img pull-left\"><!-- scald=2895:news_thumbnail --><img alt=\"logohappyatschool.jpg\" height=\"90\" src=\"https://www.esiee.fr/sites/default/files/styles/news/public/thumbnails/image/visuel-classementhas-2021.jpg?itok=fgcS4Fk7\" title=\"logohappyatschool.jpg\" width=\"120\"/><!-- END scald=2895 --></div>\n",
       " <span class=\"slide-content-title\"><a class=\"is-uppercase\" href=\"/fr/actualite/esiee-11e-classement-happyatschool-ingenieur\">ESIEE Paris 11e meilleure école d’ingénieurs - HappyAtSchool 2021</a></span>\n",
       " <div class=\"clearfix\"></div>\n",
       " <p class=\"slide-content-desc\">Dans un contexte compliqué, particulièrement éprouvant pour les étudiants, ESIEE Paris se distingue au classement HappyAtSchool 2021.</p> </div>,\n",
       " <div class=\"slide slide-content\">\n",
       " <span class=\"slide-content-date inline-block\"><span class=\"date-display-single\">14.12.2021</span></span>\n",
       " <span class=\"slide-content-theme inline-block is-uppercase\">Evènements</span>\n",
       " <div class=\"clearfix\"></div>\n",
       " <div class=\"slide-content-img pull-left\"><!-- scald=3217:news_thumbnail --><img alt=\"Ecole thématique CNRS : Interface\" height=\"90\" src=\"https://www.esiee.fr/sites/default/files/styles/news/public/thumbnails/image/visuel-ecole-cnrs-2021.jpg?itok=fwwwex-m\" title=\"Ecole thématique CNRS : Interface\" width=\"120\"/><!-- END scald=3217 --></div>\n",
       " <span class=\"slide-content-title\"><a class=\"is-uppercase\" href=\"/fr/actualite/recherche-ecole-cnrs-2021\">ESIEE Paris co-organise une école thématique du CNRS : Interface</a></span>\n",
       " <div class=\"clearfix\"></div>\n",
       " <p class=\"slide-content-desc\">ESIEE Paris accueille et co-organise une Ecole thématique du CNRS du 13 au 17 décembre 2021</p> </div>,\n",
       " <div class=\"slide slide-content\">\n",
       " <span class=\"slide-content-date inline-block\"><span class=\"date-display-single\">02.11.2021</span></span>\n",
       " <span class=\"slide-content-theme inline-block is-uppercase\">Actualités</span>\n",
       " <div class=\"clearfix\"></div>\n",
       " <div class=\"slide-content-img pull-left\"><!-- scald=3179:news_thumbnail --><img alt=\"Reportage TF1 sur Yann LeCun\" height=\"90\" src=\"https://www.esiee.fr/sites/default/files/styles/news/public/thumbnails/image/visuel-yann-lecun-920x600.png?itok=Bcy29sz6\" title=\"Yann LeCun et Camile Couprie, diplômés ESIEE Paris à l'honneur sur TF1\" width=\"120\"/><!-- END scald=3179 --></div>\n",
       " <span class=\"slide-content-title\"><a class=\"is-uppercase\" href=\"/fr/actualite/yann-lecun-et-camille-couprie-diplomes-esiee-paris-a-l-honneur-sur-tf1\">Yann LeCun et Camille Couprie, diplômés ESIEE Paris à l’honneur sur TF1 </a></span>\n",
       " <div class=\"clearfix\"></div>\n",
       " <p class=\"slide-content-desc\">« Yann LeCun, l’inventeur qui a révolutionné notre quotidien » </p> </div>,\n",
       " <div class=\"slide slide-content\">\n",
       " <span class=\"slide-content-date inline-block\"><span class=\"date-display-single\">07.12.2021</span></span>\n",
       " <span class=\"slide-content-theme inline-block is-uppercase\">Entreprises</span>\n",
       " <div class=\"clearfix\"></div>\n",
       " <div class=\"slide-content-img pull-left\"><!-- scald=2989:news_thumbnail --><img alt=\"Offres de stages\" height=\"90\" src=\"https://www.esiee.fr/sites/default/files/styles/news/public/thumbnails/image/offres-de-stages-web-920x600.jpg?itok=QhensPUC\" title=\"Offres de stages\" width=\"120\"/><!-- END scald=2989 --></div>\n",
       " <span class=\"slide-content-title\"><a class=\"is-uppercase\" href=\"/fr/actualite/stages-ingenieur-esiee-paris\">Recrutez vos stagiaires : du stage de découverte au stage de fin d’études</a></span>\n",
       " <div class=\"clearfix\"></div>\n",
       " <p class=\"slide-content-desc\">Une opportunité pour vous, entreprises, de collaborer avec de futurs ingénieurs capables d’anticiper et de suivre les évolutions technologiques.</p> </div>]"
      ]
     },
     "execution_count": 44,
     "metadata": {},
     "output_type": "execute_result"
    }
   ],
   "source": [
    "soup.find_all(class_=\"slide\")[0:5]"
   ]
  },
  {
   "cell_type": "markdown",
   "metadata": {},
   "source": [
    "Pour récupérer le text sans les balises HTML :"
   ]
  },
  {
   "cell_type": "code",
   "execution_count": 28,
   "metadata": {},
   "outputs": [
    {
     "data": {
      "text/plain": [
       "' \\n\\n\\n\\n\\n\\n\\n\\n\\n\\nESIEE Paris, l’école de l’innovation technologique | Grande école d’ingénieurs | ESIEE Paris\\n\\n\\n\\n\\n\\n\\n\\n\\n\\n\\n\\n\\n\\n\\n\\n \\n\\n\\n\\n\\n\\n\\n\\n\\n\\n\\n\\nLes outils ESIEE Paris Webmail ESIEE Paris Emploi du temps général Emploi du temps individuel Extranet iCampus Blackboard Microsoft DreamSpark \\n\\n\\n\\n\\n\\n\\n\\n\\n\\n\\n\\n\\n\\n\\n\\n\\n\\n\\n\\n\\n\\n\\n\\n\\n\\n\\n\\n\\n\\n\\n\\n\\n\\n\\n\\n\\n\\n\\n\\n\\n\\n\\n\\n\\n\\n\\n menu\\nFormations\\n\\n\\nRETOUR menu\\nFormations ESIEE ParisIngénieur\\n\\n\\nIngénieur\\nRETOUR Formations\\nIngénieur ESIEE ParisPremier cycleLe cycle ingénieur\\n\\n\\nLe cycle ingénieur\\nRETOUR Ingénieur\\nLe cycle ingénieur ESIEE ParisEnseignements de 1ère annéeEnseignements de 2e et 3e annéeProfils métiersFilières\\n\\n\\nFilières\\nRETOUR Ingénieur\\n9 filières, 1 diplômeInformatiqueCybersécuritéDatascience et intelligence artificielleArtificial Intelligence and CybersecuritySystèmes embarquésSystèmes électroniques intelligentsGénie industrielBiotechnologies et e-santéEnergieDoubles-diplômesEmplois et salairesFrais de scolarité - Aides financièresStagesAdmissionsContactIngénieur par apprentissage\\n\\n'"
      ]
     },
     "execution_count": 28,
     "metadata": {},
     "output_type": "execute_result"
    }
   ],
   "source": [
    "soup.text[0:1000]"
   ]
  },
  {
   "cell_type": "markdown",
   "metadata": {},
   "source": [
    "## Exercice\n",
    "### Exercice 3\n",
    "\n",
    "Améliorer la classe développé précédemment.\n",
    "\n",
    "- Ajouter une méthode pour récupérer l'objet soup d'un url\n",
    "- Récupérer une liste de User Agent et effectuer une rotation aléatoire sur celui à utiliser\n",
    "- Utiliser cette classe pour parser une page HTML et récupérer : le titre, tous les H1 (si ils existent), les liens vers les images, les liens sortants vers d'autres sites, et le texte principal.\n",
    "\n",
    "Parsing d'un sitemaps pour récupérer une listes de liens avec les informations disponibles. -> Stocker dans un dictionnaire et dans un fichier JSON local."
   ]
  },
  {
   "cell_type": "code",
   "execution_count": 142,
   "metadata": {},
   "outputs": [],
   "source": [
    "import random\n",
    "\n",
    "class RequestHTML2 (RequestsHTML) :\n",
    "    \n",
    "    def __init__(self):\n",
    "        super().__init__(\"http://www.esiee.fr/\")\n",
    "    \n",
    "    def getSoup(self):\n",
    "        soup = BeautifulSoup(self.getRequest(self.tryUserAgent()).text)\n",
    "        return soup\n",
    "    \n",
    "    def tryUserAgent(self) :\n",
    "    \n",
    "        l_userAgents =(\"Mozilla/4.0 (compatible; MSIE 5.01; Windows NT 5.0)\",\n",
    "            'Mozilla/5.0 (Macintosh; Intel Mac OS X 10_10_1) AppleWebKit/537.36 (KHTML, like Gecko) Chrome/39.0.2171.95 Safari/537.36',\n",
    "            \"Mozilla/5.0 (Windows NT 5.1; rv:13.0) Gecko/20100101 Firefox/13.0.1\",\n",
    "            \"Mozilla/5.0 (compatible; YandexBot/3.0; +http://yandex.com/bots)\",\n",
    "            \"Wotbox/2.01 (+http://www.wotbox.com/bot/)\")\n",
    "        \n",
    "        return {'User-Agent': random.choice(l_userAgents)}\n",
    "    \n",
    "    def findTitle(self):\n",
    "        soup = self.getSoup()\n",
    "        return soup.find_all(\"title\")\n",
    "   \n",
    "    def findH1(self):\n",
    "        soup=self.getSoup()\n",
    "        return soup.find_all(\"h1\")\n",
    "    \n",
    "    def findImage(self):\n",
    "        soup=self.getSoup()\n",
    "        return soup.find_all(class_=\"image\")\n",
    "    \n",
    "    def findLinks(self):\n",
    "        soup=self.getSoup()\n",
    "        return soup.find_all('a')        \n",
    "    \n",
    "    def findText(self):\n",
    "        soup=self.getSoup()\n",
    "        return soup.text"
   ]
  },
  {
   "cell_type": "code",
   "execution_count": 143,
   "metadata": {},
   "outputs": [
    {
     "data": {
      "text/plain": [
       "[<title>ESIEE Paris, l’école de l’innovation technologique | Grande école d’ingénieurs | ESIEE Paris</title>]"
      ]
     },
     "execution_count": 143,
     "metadata": {},
     "output_type": "execute_result"
    }
   ],
   "source": [
    "a = RequestHTML2()\n",
    "\n",
    "a.findTitle()\n"
   ]
  },
  {
   "cell_type": "code",
   "execution_count": 144,
   "metadata": {},
   "outputs": [
    {
     "data": {
      "text/plain": [
       "[]"
      ]
     },
     "execution_count": 144,
     "metadata": {},
     "output_type": "execute_result"
    }
   ],
   "source": [
    "a.findH1()"
   ]
  },
  {
   "cell_type": "code",
   "execution_count": 83,
   "metadata": {},
   "outputs": [
    {
     "data": {
      "text/plain": [
       "[<div class=\"image\"><img alt=\"Décoration 1\" height=\"344\" src=\"https://www.esiee.fr/sites/default/files/thumbnails/image/home-bandeau-1a.png\" title=\"Décoration 1\" width=\"1018\"/></div>,\n",
       " <div class=\"image\"><img alt=\"Décoration 2\" height=\"344\" src=\"https://www.esiee.fr/sites/default/files/thumbnails/image/home-bandeau-2a.png\" title=\"Décoration 2\" width=\"1018\"/></div>,\n",
       " <div class=\"image\"><img alt=\"Décoration 3\" height=\"343\" src=\"https://www.esiee.fr/sites/default/files/thumbnails/image/home-bandeau-3a.png\" title=\"Décoration 3\" width=\"1018\"/></div>,\n",
       " <div class=\"image\"><img alt=\"Décoration 4\" height=\"343\" src=\"https://www.esiee.fr/sites/default/files/thumbnails/image/home-bandeau-4a.png\" title=\"Décoration 4\" width=\"1018\"/></div>,\n",
       " <div class=\"image\"><img alt=\"Décoration 1\" height=\"344\" src=\"https://www.esiee.fr/sites/default/files/thumbnails/image/home-bandeau-1a.png\" title=\"Décoration 1\" width=\"1018\"/></div>,\n",
       " <div class=\"image\"><img alt=\"Décoration 2\" height=\"344\" src=\"https://www.esiee.fr/sites/default/files/thumbnails/image/home-bandeau-2a.png\" title=\"Décoration 2\" width=\"1018\"/></div>,\n",
       " <div class=\"image\"><img alt=\"Décoration 3\" height=\"343\" src=\"https://www.esiee.fr/sites/default/files/thumbnails/image/home-bandeau-3a.png\" title=\"Décoration 3\" width=\"1018\"/></div>,\n",
       " <div class=\"image\"><img alt=\"Décoration 4\" height=\"343\" src=\"https://www.esiee.fr/sites/default/files/thumbnails/image/home-bandeau-4a.png\" title=\"Décoration 4\" width=\"1018\"/></div>,\n",
       " <div class=\"image\"><img alt=\"Entrée classements\" height=\"121\" src=\"https://www.esiee.fr/sites/default/files/thumbnails/image/entree-classements-319x121.jpg\" title=\"Entrée classements\" width=\"319\"/></div>,\n",
       " <div class=\"image\"><img alt=\"Formation continue\" height=\"121\" src=\"https://www.esiee.fr/sites/default/files/thumbnails/image/entree-formation-continue-319x121.jpg\" title=\"Formation continue\" width=\"319\"/></div>,\n",
       " <div class=\"image\"><img alt=\"Membre fondateur Université Gustave Eiffel\" src=\"/sites/default/files/logo_membre_fondateur_univ_gustave_eiffel.png\" title=\"Membre fondateur Université Gustave Eiffel\"/></div>,\n",
       " <div class=\"image\"><img alt=\"CCI Paris Île-de-France Éducation\" height=\"41\" src=\"https://www.esiee.fr/sites/default/files/thumbnails/image/logo-cci-paris.png\" title=\"CCI Paris Île-de-France Éducation\" width=\"150\"/></div>]"
      ]
     },
     "execution_count": 83,
     "metadata": {},
     "output_type": "execute_result"
    }
   ],
   "source": [
    "a.findImage()"
   ]
  },
  {
   "cell_type": "code",
   "execution_count": 84,
   "metadata": {},
   "outputs": [
    {
     "data": {
      "text/plain": [
       "[<a href=\"#\">\n",
       " <i class=\"icon-parametres\"></i>\n",
       " </a>,\n",
       " <a href=\"https://gmail.com\" target=\"_blank\" title=\"Webmail ESIEE Paris\"><i><img alt=\"\" src=\"https://www.esiee.fr/sites/default/files/menu_icons/menu_icon_950.png\"/> </i><span>Webmail ESIEE Paris</span></a>,\n",
       " <a href=\"https://planif.esiee.fr/direct/\" target=\"_blank\" title=\"Emploi du temps général\"><i><img alt=\"\" src=\"https://www.esiee.fr/sites/default/files/menu_icons/menu_icon_1331.png\"/> </i><span>Emploi du temps général</span></a>,\n",
       " <a href=\"https://planif.esiee.fr/jsp/custom/esiee/easyMyPlanning.jsp\" target=\"_blank\" title=\"Emploi du temps individuel\"><i><img alt=\"\" src=\"https://www.esiee.fr/sites/default/files/menu_icons/menu_icon_1332.png\"/> </i><span>Emploi du temps individuel</span></a>,\n",
       " <a href=\"https://intra.esiee.fr\" target=\"_blank\" title=\"Extranet\"><i><img alt=\"\" src=\"https://www.esiee.fr/sites/default/files/menu_icons/menu_icon_951.png\"/> </i><span>Extranet</span></a>,\n",
       " <a href=\"https://blackboard.esiee.fr\" target=\"_blank\" title=\"iCampus Blackboard\"><i><img alt=\"\" src=\"https://www.esiee.fr/sites/default/files/menu_icons/menu_icon_1311.png\"/> </i><span>iCampus Blackboard</span></a>,\n",
       " <a href=\"http://e5.onthehub.com/WebStore/Welcome.aspx?vsro=8&amp;ws=45AD823E-799B-E011-969D-0030487D8897&amp;JSEnabled=1\" target=\"_blank\" title=\"Microsoft DreamSpark\"><i><img alt=\"\" src=\"https://www.esiee.fr/sites/default/files/menu_icons/menu_icon_1696.png\"/> </i><span>Microsoft DreamSpark</span></a>,\n",
       " <a href=\"/en\">\n",
       " <i>\n",
       " <img alt=\"English\" src=\"/sites/all/themes/custom/esiee_theme/assets/images/flag-en.png\"/>\n",
       " </i>\n",
       " </a>,\n",
       " <a href=\"https://www.facebook.com/esieeparis\" target=\"_blank\">\n",
       " <i class=\"fa fa-facebook\"></i>\n",
       " </a>,\n",
       " <a href=\"https://twitter.com/ESIEEPARIS\" target=\"_blank\">\n",
       " <i class=\"fa fa-twitter\"></i>\n",
       " </a>,\n",
       " <a href=\"https://www.linkedin.com/edu/school?id=20041&amp;trk=tyah&amp;trkInfo=idx%3A4-1-4%2CtarId%3A1425998561386%2Ctas%3Aesiee+paris\" target=\"_blank\">\n",
       " <i class=\"fa fa-linkedin\"></i>\n",
       " </a>,\n",
       " <a href=\"http://www.youtube.com/esieeparis\" target=\"_blank\">\n",
       " <i class=\"fa fa-youtube\"></i>\n",
       " </a>,\n",
       " <a href=\"https://www.instagram.com/esieeparis/\" target=\"_blank\">\n",
       " <i class=\"fa fa-instagram\"></i>\n",
       " </a>,\n",
       " <a href=\"#toolbar-footer\">\n",
       " <i><img alt=\"Réseaux sociaux\" src=\"/sites/all/themes/custom/esiee_theme/assets/images/icon-socialnetworks.png\"/></i>\n",
       " </a>,\n",
       " <a href=\"/fr\" title=\"Page d'accueil\"><img alt=\"ESIEE Paris\" src=\"https://www.esiee.fr/sites/all/themes/custom/esiee_theme/logo.png\"/></a>,\n",
       " <a class=\"btn-menu js-btn-menu\" href=\"#\" title=\"\"><span class=\"fa fa-reorder\"></span> menu</a>,\n",
       " <a class=\"js-link-lev0\" href=\"https://www.esiee.fr/fr/formations\" id=\"851\">Formations</a>,\n",
       " <a class=\"link-back js-link-back0 link-back-mob\" href=\"#\" title=\"\">RETOUR menu</a>,\n",
       " <a href=\"https://www.esiee.fr/fr/formations\">Formations ESIEE Paris</a>,\n",
       " <a class=\"js-link-lev\" href=\"#\" id=\"880\">Ingénieur</a>,\n",
       " <a class=\"link-back js-link-back\" href=\"#\" title=\"\">RETOUR Formations</a>,\n",
       " <a href=\"https://www.esiee.fr/fr/formations/ingenieur/ingenieur-esiee-paris\">Ingénieur ESIEE Paris</a>,\n",
       " <a href=\"https://www.esiee.fr/fr/formations/ingenieur/premier-cycle\">Premier cycle</a>,\n",
       " <a class=\"js-link-lev\" href=\"#\" id=\"881\">Le cycle ingénieur</a>,\n",
       " <a class=\"link-back js-link-back\" href=\"#\" title=\"\">RETOUR Ingénieur</a>,\n",
       " <a href=\"https://www.esiee.fr/fr/formations/ingenieur/cycle-ingenieur\">Le cycle ingénieur ESIEE Paris</a>,\n",
       " <a href=\"https://www.esiee.fr/fr/formations/ingenieur/cycle-ingenieur/enseignements-premiere-annee\">Enseignements de 1ère année</a>,\n",
       " <a href=\"https://www.esiee.fr/fr/formations/ingenieur/cycle-ingenieur/enseignements-deuxieme-troisieme-annee\">Enseignements de 2e et 3e année</a>,\n",
       " <a href=\"https://www.esiee.fr/fr/formations/ingenieur/cycle-ingenieur/profils-metiers\">Profils métiers</a>,\n",
       " <a class=\"js-link-lev\" href=\"#\" id=\"886\">Filières</a>,\n",
       " <a class=\"link-back js-link-back\" href=\"#\" title=\"\">RETOUR Ingénieur</a>,\n",
       " <a href=\"https://www.esiee.fr/fr/formations/ingenieur/filieres\">9 filières, 1 diplôme</a>,\n",
       " <a href=\"https://www.esiee.fr/fr/formations/ingenieur/filieres/informatique\">Informatique</a>,\n",
       " <a href=\"https://www.esiee.fr/fr/formations/ingenieur/filieres/cybersecurite\">Cybersécurité</a>,\n",
       " <a href=\"https://www.esiee.fr/fr/formations/ingenieur/filieres/datascience-intelligence-artificielle\">Datascience et intelligence artificielle</a>,\n",
       " <a href=\"https://www.esiee.fr/fr/formations/ingenieur/filieres/artificial-intelligence-cybersecurity\">Artificial Intelligence and Cybersecurity</a>,\n",
       " <a href=\"https://www.esiee.fr/fr/formations/ingenieur/filieres/systemes-embarques\">Systèmes embarqués</a>,\n",
       " <a href=\"https://www.esiee.fr/fr/formations/ingenieur/filieres/systemes-electroniques\">Systèmes électroniques intelligents</a>,\n",
       " <a href=\"https://www.esiee.fr/fr/formations/ingenieur/filieres/genie-industriel\">Génie industriel</a>,\n",
       " <a href=\"https://www.esiee.fr/fr/formations/ingenieur/filieres/biotechnologies-esante\">Biotechnologies et e-santé</a>,\n",
       " <a href=\"https://www.esiee.fr/fr/formations/ingenieur/filieres/energie\">Energie</a>,\n",
       " <a href=\"https://www.esiee.fr/fr/formations/ingenieur/doubles-diplomes\">Doubles-diplômes</a>,\n",
       " <a href=\"https://www.esiee.fr/fr/formations/ingenieur/emplois-et-salaires\">Emplois et salaires</a>,\n",
       " <a href=\"https://www.esiee.fr/fr/formations/ingenieur/frais-scolarites/aides-financieres\">Frais de scolarité - Aides financières</a>,\n",
       " <a href=\"https://www.esiee.fr/fr/formations/ingenieur/stages\">Stages</a>,\n",
       " <a href=\"https://www.esiee.fr/fr/formations/ingenieur/admission/Ingenieur\">Admissions</a>,\n",
       " <a href=\"https://www.esiee.fr/fr/contact-ingenieur\">Contact</a>,\n",
       " <a class=\"js-link-lev\" href=\"#\" id=\"893\">Ingénieur par apprentissage</a>,\n",
       " <a class=\"link-back js-link-back\" href=\"#\" title=\"\">RETOUR Formations</a>,\n",
       " <a href=\"https://www.esiee.fr/fr/formations/ingenieur-par-apprentissage\">Devenir ingénieur par l'apprentissage</a>,\n",
       " <a class=\"js-link-lev\" href=\"#\" id=\"1437\">Réseaux et sécurité</a>,\n",
       " <a class=\"link-back js-link-back\" href=\"#\" title=\"\">RETOUR Ingénieur par apprentissage</a>,\n",
       " <a href=\"https://www.esiee.fr/fr/formations/ingenieur-par-apprentissage/reseaux-securite\">Réseaux et sécurité</a>,\n",
       " <a href=\"https://www.esiee.fr/fr/formations/ingenieur-par-apprentissage/reseaux-securite/programme-des-enseignements\">Programme des enseignements</a>,\n",
       " <a class=\"js-link-lev\" href=\"#\" id=\"1438\">Systèmes embarqués</a>,\n",
       " <a class=\"link-back js-link-back\" href=\"#\" title=\"\">RETOUR Ingénieur par apprentissage</a>,\n",
       " <a href=\"https://www.esiee.fr/fr/formations/ingenieur-par-apprentissage/systemes-embarques\">Systèmes embarqués - transports et objets intelligents</a>,\n",
       " <a href=\"https://www.esiee.fr/fr/formations/ingenieur-par-apprentissage/systemes-embarques/programme-des-enseignements\">Programme des enseignements</a>,\n",
       " <a class=\"js-link-lev\" href=\"#\" id=\"1439\">Informatique et applications</a>,\n",
       " <a class=\"link-back js-link-back\" href=\"#\" title=\"\">RETOUR Ingénieur par apprentissage</a>,\n",
       " <a href=\"https://www.esiee.fr/fr/formations/ingenieur-par-apprentissage/informatique-et-applications\">Informatique et applications - ingénierie graphique et technologies 3D</a>,\n",
       " <a href=\"https://www.esiee.fr/fr/formations/ingenieur-par-apprentissage/informatique-et-applications/programme-des-enseignements\">Programme des enseignements</a>,\n",
       " <a class=\"js-link-lev\" href=\"#\" id=\"1766\">Génie industriel</a>,\n",
       " <a class=\"link-back js-link-back\" href=\"#\" title=\"\">RETOUR Ingénieur par apprentissage</a>,\n",
       " <a href=\"https://www.esiee.fr/fr/formations/ingenieur-par-apprentissage/genie-industriel\">Génie industriel - Supply chain et numérique</a>,\n",
       " <a href=\"https://www.esiee.fr/fr/formations/ingenieur-par-apprentissage/genie-industriel/programme-des-enseignements\">Programme des enseignements</a>,\n",
       " <a class=\"js-link-lev\" href=\"https://www.esiee.fr/fr/formations/ingenieur-par-apprentissage/energies\" id=\"4473\">Energies</a>,\n",
       " <a class=\"link-back js-link-back\" href=\"#\" title=\"\">RETOUR Ingénieur par apprentissage</a>,\n",
       " <a href=\"https://www.esiee.fr/fr/formations/ingenieur-par-apprentissage/energies\">Energies - Ingénierie de la transition énergétique</a>,\n",
       " <a href=\"https://www.esiee.fr/fr/formations/ingnieur-par-apprentissage/energies/programme-des-enseignements\">Programme des enseignements</a>,\n",
       " <a href=\"https://www.esiee.fr/fr/formations/ingenieur-par-apprentissage/mode-emploi\">Apprentissage : mode d'emploi</a>,\n",
       " <a href=\"https://www.esiee.fr/fr/admission/Ingenieur-par-apprentissage\">Admissions</a>,\n",
       " <a href=\"https://www.esiee.fr/fr/contact-ingenieur-par-apprentissage\">Contact</a>,\n",
       " <a class=\"js-link-lev\" href=\"#\" id=\"5477\">Bachelor</a>,\n",
       " <a class=\"link-back js-link-back\" href=\"#\" title=\"\">RETOUR Formations</a>,\n",
       " <a href=\"https://www.esiee.fr/fr/formations/bachelor\">Bachelor BESTm</a>,\n",
       " <a href=\"https://www.esiee.fr/fr/formations/bachelor/poursuites-etudes-metiers\">Poursuites d'études - Métiers</a>,\n",
       " <a href=\"https://www.esiee.fr/fr/admission/Bachelor\">Admissions</a>,\n",
       " <a class=\"js-link-lev\" href=\"#\" id=\"894\">Masters internationaux</a>,\n",
       " <a class=\"link-back js-link-back\" href=\"#\" title=\"\">RETOUR Formations</a>,\n",
       " <a href=\"https://www.esiee.fr/fr/formations/masters-internationaux\">Programmes internationaux</a>,\n",
       " <a href=\"https://www.esiee.fr/fr/formations/masters-internationaux/master-artificial-intelligence-cybersecurity\">Master - Artificial Intelligence and Cybersecurity</a>,\n",
       " <a href=\"https://www.esiee.fr/fr/formations/masters-internationaux/msc-connected-objects-devices-and-systems\">M.Sc. Connected Objects, Devices and Systems</a>,\n",
       " <a href=\"https://www.esiee.fr/fr/formations/masters-internationaux/msc-management-information-systems\">M.Sc. Management of Technology - Information Systems</a>,\n",
       " <a href=\"https://www.esiee.fr/fr/contact-programmes-internationaux\">Contact</a>,\n",
       " <a class=\"js-link-lev\" href=\"#\" id=\"5671\">Formation continue</a>,\n",
       " <a class=\"link-back js-link-back\" href=\"#\" title=\"\">RETOUR Formations</a>,\n",
       " <a href=\"https://www.esiee.fr/fr/formations/formation-continue\">Formation continue</a>,\n",
       " <a class=\"js-link-lev\" href=\"#\" id=\"5674\">Cybersécurité</a>,\n",
       " <a class=\"link-back js-link-back\" href=\"#\" title=\"\">RETOUR Formation continue</a>,\n",
       " <a href=\"https://www.esiee.fr/fr/formations/formation-continue/programmes-courts-cybersecurite/initiation-systemes-information2\">Initiation aux systèmes d’information</a>,\n",
       " <a href=\"https://www.esiee.fr/fr/formations/formation-continue/programmes-courts-cybersecurite/initiation-implementation-erp\">Initiation et implémentation des ERP</a>,\n",
       " <a href=\"https://www.esiee.fr/fr/formations/formation-continue/programmes-courts-cybersecurite/initiation-securite-web-vulnerabilites\">Initiation à la sécurité web et ses vulnérabilités</a>,\n",
       " <a href=\"https://www.esiee.fr/fr/formations/formation-continue/programmes-courts-cybersecurite/securite-systemes-reseaux-avance\">Sécurité des systèmes et des réseaux niveau avancé</a>,\n",
       " <a href=\"https://www.esiee.fr/fr/formations/formation-continue/programmes-courts-cybersecurite/securite-systemes-reseaux-expert\">Sécurité des systèmes et des réseaux niveau (expert)</a>,\n",
       " <a href=\"https://www.esiee.fr/fr/formations/formation-continue/programmes-courts-cybersecurite/decouverte-cryptographie\">Découverte de la cryptographie</a>,\n",
       " <a href=\"https://www.esiee.fr/fr/formations/formation-continue/programmes-courts-cybersecurite/detection-intrusion-incidents-securite\">Détection intrusions : gestion des incidents de sécurité</a>,\n",
       " <a href=\"https://www.esiee.fr/fr/formations/formation-continue/programmes-courts-cybersecurite/sensibilisation-normes-iso-rgpd-cnil\">Sensibilisation aux Normes Iso et au RGPD de la CNIL</a>,\n",
       " <a href=\"https://www.esiee.fr/fr/formations/formation-continue/programmes-courts-cybersecurite/audit-systemes-information-reseaux\">Audit des SI et réseaux</a>,\n",
       " <a class=\"js-link-lev\" href=\"#\" id=\"5675\">Salle blanche</a>,\n",
       " <a class=\"link-back js-link-back\" href=\"#\" title=\"\">RETOUR Formation continue</a>,\n",
       " <a href=\"https://www.esiee.fr/fr/formations/formation-continue/programmes-salles-blanches/decouverte-technologies\">Découverte des technologies de salle blanche</a>,\n",
       " <a href=\"https://www.esiee.fr/fr/formations/formation-continue/programmes-courts-salles-blanches/initiation-technologies-microfabrication\">Initiation aux technologies de microfabrication</a>,\n",
       " <a href=\"https://www.esiee.fr/fr/formations/formation-continue/foire-aux-questions\">FAQ</a>,\n",
       " <a href=\"https://www.esiee.fr/fr/contact-formation-continue\">Contact</a>,\n",
       " <a class=\"js-link-lev0\" href=\"#\" id=\"852\">Espace étudiants</a>,\n",
       " <a class=\"link-back js-link-back0 link-back-mob\" href=\"#\" title=\"\">RETOUR menu</a>,\n",
       " <a href=\"https://www.esiee.fr/fr/espace-etudiants/vie-etudiante\">La vie étudiante</a>,\n",
       " <a class=\"js-link-lev\" href=\"#\" id=\"1409\">L'associatif</a>,\n",
       " <a class=\"link-back js-link-back\" href=\"#\" title=\"\">RETOUR Espace étudiants</a>,\n",
       " <a href=\"https://www.esiee.fr/fr/espace-etudiants/associatif/bureau-des-eleves\">Bureau des élèves</a>,\n",
       " <a href=\"https://www.esiee.fr/fr/espace-etudiants/associatif/junior-esiee\">Junior ESIEE</a>,\n",
       " <a href=\"https://www.esiee.fr/fr/espace-etudiants/associatif/clubs-associations\">Clubs et associations</a>,\n",
       " <a href=\"https://www.esiee.fr/fr/espace-etudiants/amenagements-etudes\">Aménagements d'études</a>,\n",
       " <a href=\"https://www.esiee.fr/fr/espace-etudiants/TI-innovation-gateway\">Bibliothèque 4.0</a>,\n",
       " <a href=\"https://www.esiee.fr/fr/espace-etudiants/logements\">Logements</a>,\n",
       " <a href=\"https://www.esiee.fr/fr/espace-etudiants/sport\">Sport</a>,\n",
       " <a href=\"https://www.esiee.fr/fr/espace-etudiants/campus-descartes\">Campus Descartes</a>,\n",
       " <a href=\"https://www.esiee.fr/fr/espace-etudiants/relais-handicap\">Relais handicap</a>,\n",
       " <a class=\"js-link-lev\" href=\"#\" id=\"1423\">Equipements</a>,\n",
       " <a class=\"link-back js-link-back\" href=\"#\" title=\"\">RETOUR Espace étudiants</a>,\n",
       " <a href=\"https://www.esiee.fr/fr/espace-etudiants/equipements/centre-de-langues\">Le centre de langues</a>,\n",
       " <a href=\"https://www.esiee.fr/fr/espace-etudiants/equipements/informatique\">Laboratoires</a>,\n",
       " <a href=\"https://www.esiee.fr/fr/espace-etudiants/equipements/ordinateurs-portables\">Ordinateurs portables</a>,\n",
       " <a href=\"https://www.esiee.fr/fr/espace-etudiants/ressources-numeriques\">Ressources numériques</a>,\n",
       " <a href=\"https://www.esiee.fr/fr/espace-etudiants/financer-vos-etudes\">Financer vos études</a>,\n",
       " <a href=\"https://www.esiee.fr/fr/videotheque\">Vidéothèque</a>,\n",
       " <a href=\"https://www.esiee.fr/fr/espace-etudiant/restauration\">Restauration</a>,\n",
       " <a class=\"js-link-lev0\" href=\"#\" id=\"1382\">L'école</a>,\n",
       " <a class=\"link-back js-link-back0 link-back-mob\" href=\"#\" title=\"\">RETOUR menu</a>,\n",
       " <a href=\"https://www.esiee.fr/fr/ecole/qui-sommes-nous\">Qui sommes nous ?</a>,\n",
       " <a href=\"https://www.esiee.fr/fr/gouvernance\">Gouvernance</a>,\n",
       " <a href=\"https://www.esiee.fr/fr/ecole/conseil-scientifique\">Conseil Scientifique</a>,\n",
       " <a class=\"js-link-lev\" href=\"#\" id=\"1482\">Les départements d'enseignements et de recherche</a>,\n",
       " <a class=\"link-back js-link-back\" href=\"#\" title=\"\">RETOUR L'école</a>,\n",
       " <a href=\"https://www.esiee.fr/fr/ecole/departements-enseignants/4-departements\">4 départements</a>,\n",
       " <a href=\"https://www.esiee.fr/fr/ecole/departements-enseignements/informatique\">Informatique</a>,\n",
       " <a href=\"https://www.esiee.fr/fr/ecole/departements-enseignements/ingenierie-systemes\">Ingénierie des systèmes</a>,\n",
       " <a href=\"https://www.esiee.fr/fr/ecole/departements-enseignements/sante-energie-environnement\">Santé, énergie, environnement</a>,\n",
       " <a href=\"https://www.esiee.fr/fr/ecole/departements-enseignements/management-technologies-langues\">Management de la technologie et langues</a>,\n",
       " <a class=\"js-link-lev\" href=\"#\" id=\"1365\">Corps enseignant</a>,\n",
       " <a class=\"link-back js-link-back\" href=\"#\" title=\"\">RETOUR L'école</a>,\n",
       " <a href=\"https://www.esiee.fr/fr/ecole/les-enseignants-chercheurs\">Les enseignants-chercheurs</a>,\n",
       " <a href=\"https://www.esiee.fr/fr/ecole/corps-enseignant/cv-corps-professoral\">CV du corps professoral</a>,\n",
       " <a class=\"js-link-lev\" href=\"#\" id=\"1550\">Les salles blanches</a>,\n",
       " <a class=\"link-back js-link-back\" href=\"#\" title=\"\">RETOUR L'école</a>,\n",
       " <a href=\"https://www.esiee.fr/fr/ecole/salles-blanches\">Les salles blanches</a>,\n",
       " <a class=\"js-link-lev\" href=\"#\" id=\"1064\">Equipements et procédés</a>,\n",
       " <a class=\"link-back js-link-back\" href=\"#\" title=\"\">RETOUR Les salles blanches</a>,\n",
       " <a href=\"https://www.esiee.fr/fr/ecole/salles-blanches/equipements-et-procedes\">Équipements et Procédés</a>,\n",
       " <a href=\"https://www.esiee.fr/fr/ecole/salles-blanches/equipements-et-procedes/photolithographie\">Photolithographie</a>,\n",
       " <a href=\"https://www.esiee.fr/fr/ecole/salles-blanches/equipements-et-procedes/traitements-thermiques\">Traitements thermiques</a>,\n",
       " <a href=\"https://www.esiee.fr/fr/ecole/salles-blanches/equipements-et-procedes/depots-couches-minces\">Dépôts de couches minces</a>,\n",
       " <a href=\"https://www.esiee.fr/fr/ecole/salles-blanches/equipements-et-procedes/electrodeposition\">Electrodéposition</a>,\n",
       " <a href=\"https://www.esiee.fr/fr/ecole/salles-blanches/equipements-et-procedes/gravures-plasma\">Gravures plasma</a>,\n",
       " <a href=\"https://www.esiee.fr/fr/ecole/salles-blanches/equipements-et-procedes/gravure-humide-nettoyage\">Gravure humide et nettoyage</a>,\n",
       " <a href=\"https://www.esiee.fr/fr/ecole/salles-blanches/equipements-et-procedes/scellement-de-substrats\">Scellement de substrats</a>,\n",
       " <a href=\"https://www.esiee.fr/fr/ecole/salles-blanches/equipements-et-procedes/metrologie\">Métrologie</a>,\n",
       " <a href=\"https://www.esiee.fr/fr/ecole/salles-blanches/equipements-et-procedes/plateforme-sem-fib\">Plate-forme SEM/FIB</a>,\n",
       " <a href=\"https://www.esiee.fr/fr/ecole/salles-blanches/equipements-et-procedes/packaging\">Packaging</a>,\n",
       " <a href=\"https://www.esiee.fr/fr/ecole/salles-blanches/equipements-et-procedes/recherche-collaborations\">Recherche et collaborations</a>,\n",
       " <a href=\"https://www.esiee.fr/fr/ecole/salles-blanches/equipe\">Equipe</a>,\n",
       " <a href=\"https://www.esiee.fr/fr/contact-salles-blanches\">Contact</a>,\n",
       " <a href=\"https://www.esiee.fr/fr/ecole/corps-enseignant/enseigner-a-esiee-paris\">ESIEE Paris recrute</a>,\n",
       " <a href=\"https://www.esiee.fr/fr/ecole/esiee-connect\">ESIEE Connect</a>,\n",
       " <a href=\"https://www.esiee.fr/fr/webserie-yann-lecun-prix-turing\">Webserie Yann LeCun et ESIEE Paris</a>,\n",
       " <a href=\"https://www.esiee.fr/fr/ecole/visite-virtuelle\">Visite virtuelle ESIEE Paris</a>,\n",
       " <a href=\"https://www.esiee.fr/fr/esiee_ldap_directory\">Annuaire</a>,\n",
       " <a class=\"js-link-lev0\" href=\"#\" id=\"854\">La recherche</a>,\n",
       " <a class=\"link-back js-link-back0 link-back-mob\" href=\"#\" title=\"\">RETOUR menu</a>,\n",
       " <a href=\"https://www.esiee.fr/fr/la-recherche\">Accueil</a>,\n",
       " <a class=\"js-link-lev\" href=\"#\" id=\"1573\">3 axes de recherche</a>,\n",
       " <a class=\"link-back js-link-back\" href=\"#\" title=\"\">RETOUR La recherche</a>,\n",
       " <a href=\"https://www.esiee.fr/fr/la-recherche/axes-recherche\">3 axes de recherche</a>,\n",
       " <a href=\"https://www.esiee.fr/fr/la-recherche/axes-recherche/ville-durable\">Ville durable</a>,\n",
       " <a href=\"https://www.esiee.fr/fr/la-recherche/axes-recherche/sante\">Santé</a>,\n",
       " <a href=\"https://www.esiee.fr/fr/la-recherche/axes-recherche/innovation-societe\">Innovation &amp; société</a>,\n",
       " <a class=\"js-link-lev\" href=\"#\" id=\"1563\">Laboratoires</a>,\n",
       " <a class=\"link-back js-link-back\" href=\"#\" title=\"\">RETOUR La recherche</a>,\n",
       " <a href=\"https://www.esiee.fr/fr/la-recherche/laboratoires-partenaires\">Laboratoires partenaires</a>,\n",
       " <a href=\"https://www.esiee.fr/fr/la-recherche/laboratoires-associes\">Laboratoires associés</a>,\n",
       " <a class=\"js-link-lev\" href=\"#\" id=\"5485\">Se former à la recherche</a>,\n",
       " <a class=\"link-back js-link-back\" href=\"#\" title=\"\">RETOUR La recherche</a>,\n",
       " <a href=\"https://www.esiee.fr/fr/la-recherche/se-former-recherche/ecoles-doctorales\">Ecoles doctorales</a>,\n",
       " <a href=\"https://www.esiee.fr/fr/la-recherche/se-former-recherche/masters-recherche\">Masters Recherche</a>,\n",
       " <a href=\"https://www.esiee.fr/fr/la-recherche/partenariats-entreprise\">Partenariats entreprise</a>,\n",
       " <a href=\"https://www.esiee.fr/fr/la-recherche/equipements\">Plateformes et équipements</a>,\n",
       " <a class=\"js-link-lev\" href=\"#\" id=\"5491\">Publications</a>,\n",
       " <a class=\"link-back js-link-back\" href=\"#\" title=\"\">RETOUR La recherche</a>,\n",
       " <a href=\"https://www.esiee.fr/fr/la-recherche/publications/hal-esiee\">Hal ESIEE</a>,\n",
       " <a href=\"https://www.esiee.fr/fr/la-recherche/publications-esiee-paris-12-mois\">Publications des 12 derniers mois</a>,\n",
       " <a href=\"https://www.esiee.fr/fr/la-recherche/publications-esiee\">Publications 2017-2018</a>,\n",
       " <a href=\"https://www.esiee.fr/fr/recherche/publications\">Publications avant 2016</a>,\n",
       " <a href=\"https://www.esiee.fr/fr/contact-recherche\">Informations et contact</a>,\n",
       " <a class=\"js-link-lev0\" href=\"#\" id=\"855\">Entreprises</a>,\n",
       " <a class=\"link-back js-link-back0 link-back-mob\" href=\"#\" title=\"\">RETOUR menu</a>,\n",
       " <a class=\"js-link-lev\" href=\"https://www.esiee.fr/fr/entreprises\" id=\"2539\">L'entreprise partenaire</a>,\n",
       " <a class=\"link-back js-link-back\" href=\"#\" title=\"\">RETOUR Entreprises</a>,\n",
       " <a href=\"https://www.esiee.fr/fr/entreprises\">L'entreprise partenaire</a>,\n",
       " <a href=\"https://www.esiee.fr/fr/entreprises/entreprises-partenaires/elaborez-une-chaire-enseignement\">Elaborez une chaire d'enseignement et de recherche</a>,\n",
       " <a href=\"https://www.esiee.fr/fr/entreprises/entreprises-partenaires/devenez-parrain-de-promotion\">Devenez parrain de promotion</a>,\n",
       " <a href=\"https://www.esiee.fr/fr/entreprises/deposez-offres-emploi-stage-apprentissage\">Déposez une offre d'emploi, de stage et d'apprentissage</a>,\n",
       " <a href=\"https://www.esiee.fr/fr/contact-entreprises\">Contactez-nous</a>,\n",
       " <a class=\"js-link-lev\" href=\"#\" id=\"1397\">Recrutez nos étudiants</a>,\n",
       " <a class=\"link-back js-link-back\" href=\"#\" title=\"\">RETOUR Entreprises</a>,\n",
       " <a href=\"https://www.esiee.fr/fr/entreprises/recrutez-nos-etudiants/accueillez-un-stagiaire\">Accueillez un stagiaire</a>,\n",
       " <a href=\"https://www.esiee.fr/fr/entreprises/recrutez-nos-etudiants/recrutez-un-apprenti\">Recrutez un apprenti</a>,\n",
       " <a href=\"https://www.esiee.fr/fr/entreprises/recrutez-nos-etudiants/evenements-ecole-entreprises\">Participez aux événements école-entreprises</a>,\n",
       " <a href=\"https://www.esiee.fr/fr/entreprises/recrutez-nos-etudiants/consultez-enquete-emploi\">Consultez l'enquête emploi</a>,\n",
       " <a href=\"https://www.esiee.fr/fr/entreprises/recrutez-nos-etudiants/contactez-les-alumni\">Contactez les alumni</a>,\n",
       " <a href=\"https://www.esiee.fr/fr/entreprises/deposez-offres-emploi-stage-apprentissage\">Déposez une offre d'emploi, de stage et d'apprentissage</a>,\n",
       " <a href=\"https://www.esiee.fr/fr/contact-pole-carriere\">Contactez-nous</a>,\n",
       " <a href=\"https://www.esiee.fr/fr/formations/formation-continue\">Formez vos collaborateurs</a>,\n",
       " <a class=\"js-link-lev\" href=\"#\" id=\"1406\">Développez vos projets technologiques</a>,\n",
       " <a class=\"link-back js-link-back\" href=\"#\" title=\"\">RETOUR Entreprises</a>,\n",
       " <a href=\"https://www.esiee.fr/fr/entreprises/developpez-vos-projets-technologiques/utilisez-nos-plateformes-technologiques\">Utilisez nos plateformes technologiques</a>,\n",
       " <a href=\"https://www.esiee.fr/fr/entreprises/developpez-vos-projets-technologiques/recherche-et-developpement\">Collaborez avec la R&amp;D de ESIEE Paris</a>,\n",
       " <a href=\"https://www.esiee.fr/fr/contact-entreprises\">Contactez-nous</a>,\n",
       " <a class=\"js-link-lev\" href=\"#\" id=\"4360\">Soutenez nos projets</a>,\n",
       " <a class=\"link-back js-link-back\" href=\"#\" title=\"\">RETOUR Entreprises</a>,\n",
       " <a href=\"https://www.esiee.fr/fr/entreprises/soutenez-nos-projets/versez-votre-taxe-apprentissage\">Versez votre taxe d'apprentissage</a>,\n",
       " <a href=\"https://www.esiee.fr/fr/entreprises/soutenez-nos-projets/devenez-mecene\">Devenez mécène</a>,\n",
       " <a href=\"https://www.esiee.fr/fr/entreprises/soutenez-nos-projets/investissements-pedagogiques\">Investissez dans l'équipement pédagogique</a>,\n",
       " <a href=\"https://www.esiee.fr/fr/entreprises/soutenez-nos-projets/soutenez-la-recherche\">Soutenez la recherche</a>,\n",
       " <a href=\"https://www.esiee.fr/fr/contact-entreprises\">Contactez-nous</a>,\n",
       " <a href=\"https://www.esiee.fr/fr/location-despaces\">Louez nos espaces</a>,\n",
       " <a href=\"https://www.esiee.fr/fr/entreprises/deposez-offres-emploi-stage-apprentissage\">Déposez une offre d'emploi, de stage et d'apprentissage</a>,\n",
       " <a href=\"https://www.esiee.fr/fr/contact-entreprises\">Une question ? Contactez-nous</a>,\n",
       " <a class=\"js-link-lev0\" href=\"#\" id=\"856\">International</a>,\n",
       " <a class=\"link-back js-link-back0 link-back-mob\" href=\"#\" title=\"\">RETOUR menu</a>,\n",
       " <a href=\"https://www.esiee.fr/fr/international/large-ouverture\">Une large ouverture à l'international</a>,\n",
       " <a href=\"https://www.esiee.fr/fr/international/partenaires-academiques\">Partenaires académiques</a>,\n",
       " <a href=\"https://www.esiee.fr/fr/international/etudier-a-letranger\">Etudier à l'étranger</a>,\n",
       " <a href=\"https://www.esiee.fr/fr/international/erasmus\">Erasmus +</a>,\n",
       " <a href=\"https://www.esiee.fr/fr/international/accueil-etudiants-en-echanges\">Etudiants en échange</a>,\n",
       " <a href=\"https://www.esiee.fr/fr/international/venir-etudier-a-esiee-paris\">Venir étudier à ESIEE Paris</a>,\n",
       " <a href=\"https://www.esiee.fr/fr/formations/masters-internationaux\">Programmes internationaux</a>,\n",
       " <a href=\"https://www.esiee.fr/fr/international/campus-a-l-etranger/fsati\">Campus à l'étranger</a>,\n",
       " <a href=\"https://www.esiee.fr/fr/international/les-diplomes\">Les diplômés à l'international</a>,\n",
       " <a href=\"https://www.esiee.fr/fr/contact-international\">Contact </a>,\n",
       " <a class=\"btn btn-default\" href=\"/fr/formations/ingenieur/ingenieur-esiee-paris\">Découvrir la formation</a>,\n",
       " <a class=\"btn btn-default\" href=\"/fr/formations/ingenieur/filieres\">Filières et métiers</a>,\n",
       " <a class=\"btn btn-default\" href=\"/fr/formations/ingenieur/emplois-et-salaires\">Emplois et salaires</a>,\n",
       " <a class=\"btn btn-default btn-orange\" href=\"/fr/formations/ingenieur/admission/Ingenieur\">Admissions &amp; inscriptions</a>,\n",
       " <a href=\"/fr/formations/ingenieur-par-apprentissage\"><span class=\"btn btn-default\">Découvrir la formation</span></a>,\n",
       " <a class=\"btn btn-default\" href=\"/fr/formations/ingenieur/emplois-et-salaires\">Emplois et salaires</a>,\n",
       " <a class=\"btn btn-default\" href=\"/fr/formations/ingenieur-par-apprentissage/mode-emploi\">Apprentissage : mode d'emploi</a>,\n",
       " <a class=\"btn btn-default btn-orange\" href=\"/fr/admission/Ingenieur-par-apprentissage\">Admissions &amp; inscriptions</a>,\n",
       " <a class=\"btn btn-default\" href=\"/fr/formations/bachelor\">Découvrir la formation</a>,\n",
       " <a class=\"btn btn-default\" href=\"/fr/formations/bachelor/poursuites-etudes-metiers\">Poursuites d'études et métiers</a>,\n",
       " <a class=\"btn btn-default btn-orange\" href=\"/fr/admission/Bachelor\">Admissions</a>,\n",
       " <a class=\"btn btn-default\" href=\"/fr/formations/masters-internationaux\">Découvrir la formation</a>,\n",
       " <a class=\"btn btn-default btn-orange\" href=\"/en/programmes/international-masters/how-to-apply\">Admissions &amp; inscriptions</a>,\n",
       " <a data-slide-index=\"0\" href=\"#\">Ingénieur</a>,\n",
       " <a data-slide-index=\"1\" href=\"#\">Ingénieur par apprentissage</a>,\n",
       " <a data-slide-index=\"2\" href=\"#\">Bachelor</a>,\n",
       " <a data-slide-index=\"3\" href=\"#\">Programmes internationaux</a>,\n",
       " <a class=\"block-tabs-link\" href=\"formations/ingenieur/ingenieur-esiee-paris\"><i class=\"fa fa-chevron-right\"></i></a>,\n",
       " <a class=\"block-tabs-link\" href=\"formations/ingenieur-par-apprentissage\"><i class=\"fa fa-chevron-right\"></i></a>,\n",
       " <a class=\"block-tabs-link\" href=\"https://www.esiee.fr/fr/formations/bachelor\"><i class=\"fa fa-chevron-right\"></i></a>,\n",
       " <a class=\"block-tabs-link\" href=\"formations/masters-internationaux\"><i class=\"fa fa-chevron-right\"></i></a>,\n",
       " <a href=\"fr/rss/news\" title=\"RSS\"><i class=\"fa fa-rss-square\"></i></a>,\n",
       " <a class=\"link-more\" href=\"/fr/esiee_search/news/home\">Lire plus d'actualités</a>,\n",
       " <a class=\"is-uppercase\" href=\"/fr/actualite/salon-apprentissage-letudiant-2022\">Retrouvez ESIEE Paris au salon de l'apprentissage</a>,\n",
       " <a class=\"is-uppercase\" href=\"/fr/actualite/esiee-11e-classement-happyatschool-ingenieur\">ESIEE Paris 11e meilleure école d’ingénieurs - HappyAtSchool 2021</a>,\n",
       " <a class=\"is-uppercase\" href=\"/fr/actualite/recherche-ecole-cnrs-2021\">ESIEE Paris co-organise une école thématique du CNRS : Interface</a>,\n",
       " <a class=\"is-uppercase\" href=\"/fr/actualite/yann-lecun-et-camille-couprie-diplomes-esiee-paris-a-l-honneur-sur-tf1\">Yann LeCun et Camille Couprie, diplômés ESIEE Paris à l’honneur sur TF1 </a>,\n",
       " <a class=\"is-uppercase\" href=\"/fr/actualite/stages-ingenieur-esiee-paris\">Recrutez vos stagiaires : du stage de découverte au stage de fin d’études</a>,\n",
       " <a class=\"is-uppercase\" href=\"/fr/actualite/handitech-trophy-echosign-2021\">Des étudiant.es ESIEE Paris remportent le prix de la catégorie Étudiant du Handitech Trophy 2021</a>,\n",
       " <a class=\"is-uppercase\" href=\"/fr/actualite/recherche-journees-pedagogiques-salles-blanches-cnfm-2021\">Les salles blanches à l’honneur aux journées pédagogiques du CNFM</a>,\n",
       " <a class=\"is-uppercase\" href=\"/fr/actualite/nouvelle-unite-enseignement-handicap-2021\">Nouvelle unité d’enseignement autour du handicap à ESIEE Paris </a>,\n",
       " <a class=\"is-uppercase\" href=\"/fr/actualite/biomimetisme-concours-2021\">Biomimétisme pour construire les villes de demain : nos élèves ingénieur-es innovent !</a>,\n",
       " <a class=\"is-uppercase\" href=\"/fr/actualite/classement-international-CWUR-2021\">L’Université Gustave Eiffel dans le Top des universités mondiales du CWUR</a>,\n",
       " <a class=\"is-uppercase\" href=\"/fr/actualite/parrainage-promotion-esiee-renault\">Le Groupe Renault parrain des prochaines promotions ESIEE Paris</a>,\n",
       " <a class=\"is-uppercase\" href=\"/fr/actualite/session-preperation-concours-puissance-alpha-2022\">Préparez-vous au Concours Puissance Alpha 2022 à ESIEE Paris !</a>,\n",
       " <a href=\"https://www.esiee.fr/fr/classements-ecoles-ingenieur-esiee-paris\">En savoir plus</a>,\n",
       " <a href=\"http://www.esiee.fr/fr/actualite/stages-ingenieur-esiee-paris\">En savoir plus</a>,\n",
       " <a href=\"https://www.esiee.fr/fr/nous-rencontrer\">\n",
       " <!-- scald=3147:promotion_desktop --><img alt=\"W1- Bannière JPO\" height=\"425\" src=\"https://www.esiee.fr/sites/default/files/styles/promotion_desktop/public/thumbnails/image/w1-banniere-jpo-2021-2022.jpg?itok=yTJeyyes\" title=\"W1- Bannière JPO\" width=\"243\"/><!-- END scald=3147 --> </a>,\n",
       " <a href=\"https://www.esiee.fr/fr/nous-rencontrer\">\n",
       " <!-- scald=3153:promotion_desktop --><img alt=\"W3- Bannière JPO\" height=\"425\" src=\"https://www.esiee.fr/sites/default/files/styles/promotion_desktop/public/thumbnails/image/w3-banniere-jpo-2021-2022.jpg?itok=yeuDt-ib\" title=\"W3- Bannière JPO\" width=\"243\"/><!-- END scald=3153 --> </a>,\n",
       " <a href=\"https://www.esiee.fr/fr/nous-rencontrer\">\n",
       " <!-- scald=3150:promotion_desktop --><img alt=\"W2- Bannière JPO\" height=\"425\" src=\"https://www.esiee.fr/sites/default/files/styles/promotion_desktop/public/thumbnails/image/w2-banniere-jpo-2021-2022.jpg?itok=pF-B_swe\" title=\"W2- Bannière JPO\" width=\"243\"/><!-- END scald=3150 --> </a>,\n",
       " <a href=\"https://www.esiee.fr/fr/nous-rencontrer\">\n",
       " <!-- scald=3156:promotion_desktop --><img alt=\"W4- Bannière JPO\" height=\"425\" src=\"https://www.esiee.fr/sites/default/files/styles/promotion_desktop/public/thumbnails/image/w4-banniere-jpo-2021-2022.jpg?itok=HSgsOzIw\" title=\"W4- Bannière JPO\" width=\"243\"/><!-- END scald=3156 --> </a>,\n",
       " <a href=\"https://www.esiee.fr/fr/ecole/visite-virtuelle\">\n",
       " <!-- scald=2103:promotion_desktop --><img alt=\"Visite virtuelle ESIEE Paris\" height=\"425\" src=\"https://www.esiee.fr/sites/default/files/styles/promotion_desktop/public/thumbnails/image/w1_banniere_visite-virtuelle.jpg?itok=Mb95IJ6I\" title=\"Visite virtuelle ESIEE Paris\" width=\"243\"/><!-- END scald=2103 --> </a>,\n",
       " <a href=\"https://www.esiee.fr/fr/entreprises/entreprises-partenaires/devenez-parrain-de-promotion\">\n",
       " <!-- scald=3095:promotion_desktop --><img alt=\"W-Renault\" height=\"425\" src=\"https://www.esiee.fr/sites/default/files/styles/promotion_desktop/public/thumbnails/image/w-renault.jpg?itok=nHaxyLAD\" title=\"W-Renault\" width=\"243\"/><!-- END scald=3095 --> </a>,\n",
       " <a href=\"https://www.esiee.fr/fr/nous-rencontrer\">\n",
       " <!-- scald=3148:promotion_tablet --><img alt=\"T1- Bannière JPO\" height=\"122\" src=\"https://www.esiee.fr/sites/default/files/styles/promotion_tablet/public/thumbnails/image/t1-banniere-jpo-2021-2022.jpg?itok=wx21UvXy\" title=\"T1- Bannière JPO\" width=\"649\"/><!-- END scald=3148 --> </a>,\n",
       " <a href=\"https://www.esiee.fr/fr/nous-rencontrer\">\n",
       " <!-- scald=3154:promotion_tablet --><img alt=\"T3- Bannière JPO\" height=\"122\" src=\"https://www.esiee.fr/sites/default/files/styles/promotion_tablet/public/thumbnails/image/t3-banniere-jpo-2021-2022.jpg?itok=ckBcsmJ3\" title=\"T3- Bannière JPO\" width=\"649\"/><!-- END scald=3154 --> </a>,\n",
       " <a href=\"https://www.esiee.fr/fr/nous-rencontrer\">\n",
       " <!-- scald=3151:promotion_tablet --><img alt=\"T2- Bannière JPO\" height=\"122\" src=\"https://www.esiee.fr/sites/default/files/styles/promotion_tablet/public/thumbnails/image/t2-banniere-jpo-2021-2022.jpg?itok=tktqVHjl\" title=\"T2- Bannière JPO\" width=\"649\"/><!-- END scald=3151 --> </a>,\n",
       " <a href=\"https://www.esiee.fr/fr/nous-rencontrer\">\n",
       " <!-- scald=3157:promotion_tablet --><img alt=\"T4- Bannière JPO\" height=\"122\" src=\"https://www.esiee.fr/sites/default/files/styles/promotion_tablet/public/thumbnails/image/t4-banniere-jpo-2021-2022.jpg?itok=jvgSa0TI\" title=\"T4- Bannière JPO\" width=\"649\"/><!-- END scald=3157 --> </a>,\n",
       " <a href=\"https://www.esiee.fr/fr/ecole/visite-virtuelle\">\n",
       " <!-- scald=2104:promotion_tablet --><img alt=\"Visite virtuelle ESIEE Paris\" height=\"122\" src=\"https://www.esiee.fr/sites/default/files/styles/promotion_tablet/public/thumbnails/image/t1_banniere_visite-virtuelle.jpg?itok=Ey6BcwiC\" title=\"Visite virtuelle ESIEE Paris\" width=\"649\"/><!-- END scald=2104 --> </a>,\n",
       " <a href=\"https://www.esiee.fr/fr/entreprises/entreprises-partenaires/devenez-parrain-de-promotion\">\n",
       " <!-- scald=3096:promotion_tablet --><img alt=\"T-Renault\" height=\"122\" src=\"https://www.esiee.fr/sites/default/files/styles/promotion_tablet/public/thumbnails/image/t-renault.jpg?itok=b17Qt6iP\" title=\"T-Renault\" width=\"649\"/><!-- END scald=3096 --> </a>,\n",
       " <a href=\"https://www.esiee.fr/fr/nous-rencontrer\">\n",
       " <!-- scald=3149:promotion_mobile --><img alt=\"M1- Bannière JPO\" height=\"122\" src=\"https://www.esiee.fr/sites/default/files/styles/promotion_mobile/public/thumbnails/image/m1-banniere-jpo-2021-2022.jpg?itok=xYfLQyfT\" title=\"M1- Bannière JPO\" width=\"480\"/><!-- END scald=3149 --> </a>,\n",
       " <a href=\"https://www.esiee.fr/fr/nous-rencontrer\">\n",
       " <!-- scald=3155:promotion_mobile --><img alt=\"M3- Bannière JPO\" height=\"122\" src=\"https://www.esiee.fr/sites/default/files/styles/promotion_mobile/public/thumbnails/image/m3-banniere-jpo-2021-2022.jpg?itok=u-njgohv\" title=\"M3- Bannière JPO\" width=\"480\"/><!-- END scald=3155 --> </a>,\n",
       " <a href=\"https://www.esiee.fr/fr/nous-rencontrer\">\n",
       " <!-- scald=3152:promotion_mobile --><img alt=\"M2- Bannière JPO\" height=\"122\" src=\"https://www.esiee.fr/sites/default/files/styles/promotion_mobile/public/thumbnails/image/m2-banniere-jpo-2021-2022.jpg?itok=6zXuYavK\" title=\"M2- Bannière JPO\" width=\"480\"/><!-- END scald=3152 --> </a>,\n",
       " <a href=\"https://www.esiee.fr/fr/nous-rencontrer\">\n",
       " <!-- scald=3158:promotion_mobile --><img alt=\"M4- Bannière JPO\" height=\"122\" src=\"https://www.esiee.fr/sites/default/files/styles/promotion_mobile/public/thumbnails/image/m4-banniere-jpo-2021-2022.jpg?itok=RwbpoNX_\" title=\"M4- Bannière JPO\" width=\"480\"/><!-- END scald=3158 --> </a>,\n",
       " <a href=\"https://www.esiee.fr/fr/ecole/visite-virtuelle\">\n",
       " <!-- scald=2105:promotion_mobile --><img alt=\"Visite virtuelle ESIEE Paris\" height=\"122\" src=\"https://www.esiee.fr/sites/default/files/styles/promotion_mobile/public/thumbnails/image/m1_banniere_visite-virtuelle.jpg?itok=x1o7WU_l\" title=\"Visite virtuelle ESIEE Paris\" width=\"480\"/><!-- END scald=2105 --> </a>,\n",
       " <a href=\"https://www.esiee.fr/fr/entreprises/entreprises-partenaires/devenez-parrain-de-promotion\">\n",
       " <!-- scald=3097:promotion_mobile --><img alt=\"M-Renault\" height=\"122\" src=\"https://www.esiee.fr/sites/default/files/styles/promotion_mobile/public/thumbnails/image/m-renault.jpg?itok=cnN-eY61\" title=\"M-Renault\" width=\"480\"/><!-- END scald=3097 --> </a>,\n",
       " <a href=\"https://www.esiee.fr/fr/formations/ingenieur/filieres/cybersecurite\">\n",
       " <!-- scald=2973:skill_thumbnail --><img alt=\"Formation Cybersécurité\" height=\"125\" src=\"https://www.esiee.fr/sites/default/files/styles/skill/public/thumbnails/image/cybersecurite-web-920x600.jpg?itok=FD7iRPUZ\" title=\"Formation Cybersécurité\" width=\"207\"/><!-- END scald=2973 -->\n",
       " </a>,\n",
       " <a href=\"https://www.esiee.fr/fr/formations/ingenieur/filieres/cybersecurite\">Cybersécurité</a>,\n",
       " <a href=\"https://www.esiee.fr/fr/formations/ingenieur/ingenieur-esiee-paris\">Ingénieur</a>,\n",
       " <a class=\"slide-content-link is-uppercase\" href=\"https://www.esiee.fr/fr/formations/ingenieur/filieres/cybersecurite\">Lire la suite</a>,\n",
       " <a href=\"https://www.esiee.fr/fr/formations/ingenieur/filieres/informatique\">\n",
       " <!-- scald=2959:skill_thumbnail --><img alt=\"Formation d'ingénieur informatique\" height=\"125\" src=\"https://www.esiee.fr/sites/default/files/styles/skill/public/thumbnails/image/informatique-web-920x600.jpg?itok=Poa3_6q-\" title=\"Formation d'ingénieur informatique\" width=\"207\"/><!-- END scald=2959 -->\n",
       " </a>,\n",
       " <a href=\"https://www.esiee.fr/fr/formations/ingenieur/filieres/informatique\">Informatique</a>,\n",
       " <a href=\"https://www.esiee.fr/fr/formations/ingenieur/ingenieur-esiee-paris\">Ingénieur</a>,\n",
       " <a class=\"slide-content-link is-uppercase\" href=\"https://www.esiee.fr/fr/formations/ingenieur/filieres/informatique\">Lire la suite</a>,\n",
       " <a href=\"http://www.esiee.fr/fr/formations/ingenieur-par-apprentissage/energies\">\n",
       " <!-- scald=2986:skill_thumbnail --><img alt=\"Formation alternance Energies\" height=\"125\" src=\"https://www.esiee.fr/sites/default/files/styles/skill/public/thumbnails/image/energies-apprentissage-920x600.jpg?itok=t72mU_wf\" title=\"Formation alternance Energies\" width=\"207\"/><!-- END scald=2986 -->\n",
       " </a>,\n",
       " <a href=\"http://www.esiee.fr/fr/formations/ingenieur-par-apprentissage/energies\">Energies - Ingénierie de la transition énergétique</a>,\n",
       " <a href=\"http://www.esiee.fr/fr/formations/ingenieur-par-apprentissage\">Ingénieur par apprentissage</a>,\n",
       " <a class=\"slide-content-link is-uppercase\" href=\"http://www.esiee.fr/fr/formations/ingenieur-par-apprentissage/energies\">Lire la suite</a>,\n",
       " <a href=\"https://www.esiee.fr/fr/formations/ingenieur/filieres/artificial-intelligence-cybersecurity\">\n",
       " <!-- scald=2975:skill_thumbnail --><img alt=\"Formation Intelligence artificielle et cybersecurité\" height=\"125\" src=\"https://www.esiee.fr/sites/default/files/styles/skill/public/thumbnails/image/visuel-intelligence-artificielle-920x600-web.jpg?itok=OLppWUOD\" title=\"Formation Intelligence artificielle et cybersecurité\" width=\"207\"/><!-- END scald=2975 -->\n",
       " </a>,\n",
       " <a href=\"https://www.esiee.fr/fr/formations/ingenieur/filieres/artificial-intelligence-cybersecurity\">Artificial intelligence and cybersecurity</a>,\n",
       " <a href=\"https://www.esiee.fr/fr/formations/ingenieur/ingenieur-esiee-paris\">Ingénieur</a>,\n",
       " <a class=\"slide-content-link is-uppercase\" href=\"https://www.esiee.fr/fr/formations/ingenieur/filieres/artificial-intelligence-cybersecurity\">Lire la suite</a>,\n",
       " <a href=\"https://www.esiee.fr/fr/formations/ingenieur/filieres/systemes-embarques\">\n",
       " <!-- scald=2976:skill_thumbnail --><img alt=\"Formation Systèmes embarqués\" height=\"125\" src=\"https://www.esiee.fr/sites/default/files/styles/skill/public/thumbnails/image/systemes-embarques-web-920x600.jpg?itok=yFKcypMN\" title=\"Formation Systèmes embarqués\" width=\"207\"/><!-- END scald=2976 -->\n",
       " </a>,\n",
       " <a href=\"https://www.esiee.fr/fr/formations/ingenieur/filieres/systemes-embarques\">Systèmes embarqués</a>,\n",
       " <a href=\"https://www.esiee.fr/fr/formations/ingenieur/ingenieur-esiee-paris\">Ingénieur</a>,\n",
       " <a class=\"slide-content-link is-uppercase\" href=\"https://www.esiee.fr/fr/formations/ingenieur/filieres/systemes-embarques\">Lire la suite</a>,\n",
       " <a href=\"https://www.esiee.fr/fr/formations/ingenieur/filieres/systemes-electroniques\">\n",
       " <!-- scald=2977:skill_thumbnail --><img alt=\"Formation Systèmes électroniques intelligents\" height=\"125\" src=\"https://www.esiee.fr/sites/default/files/styles/skill/public/thumbnails/image/systemes-electroniques-intelligents-920x600.jpg?itok=WmrOmTQT\" title=\"Formation Systèmes électroniques intelligents\" width=\"207\"/><!-- END scald=2977 -->\n",
       " </a>,\n",
       " <a href=\"https://www.esiee.fr/fr/formations/ingenieur/filieres/systemes-electroniques\">Systèmes électroniques intelligents</a>,\n",
       " <a href=\"https://www.esiee.fr/fr/formations/ingenieur/ingenieur-esiee-paris\">Ingénieur</a>,\n",
       " <a class=\"slide-content-link is-uppercase\" href=\"https://www.esiee.fr/fr/formations/ingenieur/filieres/systemes-electroniques\">Lire la suite</a>,\n",
       " <a href=\"https://www.esiee.fr/fr/formations/ingenieur/filieres/genie-industriel\">\n",
       " <!-- scald=2978:skill_thumbnail --><img alt=\"Formation Génie industriel\" height=\"125\" src=\"https://www.esiee.fr/sites/default/files/styles/skill/public/thumbnails/image/genie-industriel-web-920x600.jpg?itok=02kxzu9r\" title=\"Formation Génie industriel\" width=\"207\"/><!-- END scald=2978 -->\n",
       " </a>,\n",
       " <a href=\"https://www.esiee.fr/fr/formations/ingenieur/filieres/genie-industriel\">Génie industriel</a>,\n",
       " <a href=\"https://www.esiee.fr/fr/formations/ingenieur/ingenieur-esiee-paris\">Ingénieur</a>,\n",
       " <a class=\"slide-content-link is-uppercase\" href=\"https://www.esiee.fr/fr/formations/ingenieur/filieres/genie-industriel\">Lire la suite</a>,\n",
       " <a href=\"https://www.esiee.fr/fr/formations/ingenieur/filieres/datascience-intelligence-artificielle\">\n",
       " <!-- scald=2974:skill_thumbnail --><img alt=\"Formation Datascience\" height=\"125\" src=\"https://www.esiee.fr/sites/default/files/styles/skill/public/thumbnails/image/datascience-web-920x600.jpg?itok=lsYowC_V\" title=\"Formation Datascience\" width=\"207\"/><!-- END scald=2974 -->\n",
       " </a>,\n",
       " <a href=\"https://www.esiee.fr/fr/formations/ingenieur/filieres/datascience-intelligence-artificielle\">Datascience et intelligence artificielle</a>,\n",
       " <a href=\"https://www.esiee.fr/fr/formations/ingenieur/ingenieur-esiee-paris\">Ingénieur</a>,\n",
       " <a class=\"slide-content-link is-uppercase\" href=\"https://www.esiee.fr/fr/formations/ingenieur/filieres/datascience-intelligence-artificielle\">Lire la suite</a>,\n",
       " <a href=\"https://www.esiee.fr/fr/formations/ingenieur-par-apprentissage/informatique-et-applications\">\n",
       " <!-- scald=2984:skill_thumbnail --><img alt=\"Formation alternance Informatique et applications\" height=\"125\" src=\"https://www.esiee.fr/sites/default/files/styles/skill/public/thumbnails/image/informatique-applications-apprentissage-920x600.jpg?itok=ULUGMlwl\" title=\"Formation alternance Informatique et applications\" width=\"207\"/><!-- END scald=2984 -->\n",
       " </a>,\n",
       " <a href=\"https://www.esiee.fr/fr/formations/ingenieur-par-apprentissage/informatique-et-applications\">Informatique et applications</a>,\n",
       " <a href=\"https://www.esiee.fr/fr/formations/ingenieur-par-apprentissage\">Ingénieur par apprentissage</a>,\n",
       " <a class=\"slide-content-link is-uppercase\" href=\"https://www.esiee.fr/fr/formations/ingenieur-par-apprentissage/informatique-et-applications\">Lire la suite</a>,\n",
       " <a href=\"http://www.esiee.fr/formations/bachelor\">\n",
       " <!-- scald=2997:skill_thumbnail --><img alt=\"Formation Bachelor\" height=\"125\" src=\"https://www.esiee.fr/sites/default/files/styles/skill/public/thumbnails/image/bachelor-etudiants-web-920x600_0.jpg?itok=tVRMXu6e\" title=\"Formation Bachelor \" width=\"207\"/><!-- END scald=2997 -->\n",
       " </a>,\n",
       " <a href=\"http://www.esiee.fr/formations/bachelor\">Economie, Sciences et Technologies Multimedia</a>,\n",
       " <a href=\"http://www.esiee.fr/formations/bachelor\">Bachelor</a>,\n",
       " <a class=\"slide-content-link is-uppercase\" href=\"http://www.esiee.fr/formations/bachelor\">Lire la suite</a>,\n",
       " <a href=\"http://www.esiee.fr/formations/ingenieur-par-apprentissage/genie-industriel\">\n",
       " <!-- scald=2985:skill_thumbnail --><img alt=\"Formation alternance Génie industriel\" height=\"125\" src=\"https://www.esiee.fr/sites/default/files/styles/skill/public/thumbnails/image/genie-industriel-apprentissage-920x600.jpg?itok=jIY-cs5R\" title=\"Formation alternance Génie industriel\" width=\"207\"/><!-- END scald=2985 -->\n",
       " </a>,\n",
       " <a href=\"http://www.esiee.fr/formations/ingenieur-par-apprentissage/genie-industriel\">Génie industriel - Supply chain et numérique</a>,\n",
       " <a href=\"http://www.esiee.fr/formations/ingenieur-par-apprentissage\">Ingénieur par apprentissage</a>,\n",
       " <a class=\"slide-content-link is-uppercase\" href=\"http://www.esiee.fr/formations/ingenieur-par-apprentissage/genie-industriel\">Lire la suite</a>,\n",
       " <a href=\"https://www.esiee.fr/fr/formations/ingenieur-par-apprentissage/reseaux-securite\">\n",
       " <!-- scald=2982:skill_thumbnail --><img alt=\"Formation alternance Réseaux et sécurité\" height=\"125\" src=\"https://www.esiee.fr/sites/default/files/styles/skill/public/thumbnails/image/reseaux-securite-apprentissage-920x600.jpg?itok=ALmNmrIM\" title=\"Formation alternance Réseaux et sécurité\" width=\"207\"/><!-- END scald=2982 -->\n",
       " </a>,\n",
       " <a href=\"https://www.esiee.fr/fr/formations/ingenieur-par-apprentissage/reseaux-securite\">Réseaux et sécurité - Architecture et internet des objets</a>,\n",
       " <a href=\"https://www.esiee.fr/fr/formations/ingenieur-par-apprentissage\">Ingénieur par apprentissage</a>,\n",
       " <a class=\"slide-content-link is-uppercase\" href=\"https://www.esiee.fr/fr/formations/ingenieur-par-apprentissage/reseaux-securite\">Lire la suite</a>,\n",
       " <a href=\"https://www.esiee.fr/fr/formations/ingenieur/filieres/biotechnologies-esante\">\n",
       " <!-- scald=2979:skill_thumbnail --><img alt=\"Formation biotechnologies et e-santé\" height=\"125\" src=\"https://www.esiee.fr/sites/default/files/styles/skill/public/thumbnails/image/biotechnologies-web-920x600.jpg?itok=hQwX0d8L\" title=\"Formation biotechnologies et e-santé\" width=\"207\"/><!-- END scald=2979 -->\n",
       " </a>,\n",
       " <a href=\"https://www.esiee.fr/fr/formations/ingenieur/filieres/biotechnologies-esante\">Biotechnologies et e-santé</a>,\n",
       " <a href=\"https://www.esiee.fr/fr/formations/ingenieur/ingenieur-esiee-paris\">Ingénieur</a>,\n",
       " <a class=\"slide-content-link is-uppercase\" href=\"https://www.esiee.fr/fr/formations/ingenieur/filieres/biotechnologies-esante\">Lire la suite</a>,\n",
       " <a href=\"https://www.esiee.fr/fr/formations/ingenieur/filieres/energie\">\n",
       " <!-- scald=2980:skill_thumbnail --><img alt=\"Formation énergies\" height=\"125\" src=\"https://www.esiee.fr/sites/default/files/styles/skill/public/thumbnails/image/energie-web-920x600.jpg?itok=VvqdwvXT\" title=\"Formation énergies\" width=\"207\"/><!-- END scald=2980 -->\n",
       " </a>,\n",
       " <a href=\"https://www.esiee.fr/fr/formations/ingenieur/filieres/energie\">Energie - Energies renouvelables et efficacité énergétique</a>,\n",
       " <a href=\"https://www.esiee.fr/fr/formations/ingenieur/ingenieur-esiee-paris\">Ingénieur</a>,\n",
       " <a class=\"slide-content-link is-uppercase\" href=\"https://www.esiee.fr/fr/formations/ingenieur/filieres/energie\">Lire la suite</a>,\n",
       " <a href=\"https://www.esiee.fr/fr/formations/ingenieur-par-apprentissage/systemes-embarques\">\n",
       " <!-- scald=2983:skill_thumbnail --><img alt=\"Formation alternance Systèmes embarqués\" height=\"125\" src=\"https://www.esiee.fr/sites/default/files/styles/skill/public/thumbnails/image/systemes-embarques-apprentissage-920x600.jpg?itok=qmj2iYJF\" title=\"Formation alternance Systèmes embarqués\" width=\"207\"/><!-- END scald=2983 -->\n",
       " </a>,\n",
       " <a href=\"https://www.esiee.fr/fr/formations/ingenieur-par-apprentissage/systemes-embarques\">Systèmes embarqués - Transports et objects intelligents</a>,\n",
       " <a href=\"https://www.esiee.fr/fr/formations/ingenieur-par-apprentissage\">Ingénieur par apprentissage</a>,\n",
       " <a class=\"slide-content-link is-uppercase\" href=\"https://www.esiee.fr/fr/formations/ingenieur-par-apprentissage/systemes-embarques\">Lire la suite</a>,\n",
       " <a href=\"/fr/acces\">Plan d'accès</a>,\n",
       " <a href=\"/fr/brochures\">Brochures</a>,\n",
       " <a href=\"/fr/nous-rencontrer\">Nous rencontrer</a>,\n",
       " <a href=\"/fr/presse\">Presse</a>,\n",
       " <a href=\"/fr/jour-des-projets\">Le Jour des Projets</a>,\n",
       " <a href=\"/fr/videotheque\">Vidéothèque</a>,\n",
       " <a href=\"/fr/location-despaces\">Location d'espaces</a>,\n",
       " <a href=\"http://www.esiee.fr/fr/ecole/corps-enseignant/enseigner-a-esiee-paris\">Travailler à ESIEE Paris</a>,\n",
       " <a href=\"/fr/reseaux-sociaux\">Réseaux sociaux</a>,\n",
       " <a href=\"/fr/ecole/visite-virtuelle\">Visite virtuelle</a>,\n",
       " <a href=\"https://www.esiee.fr/fr/entreprises/recrutez-nos-etudiants/contactez-les-alumni\">Alumni</a>,\n",
       " <a href=\"/fr/mentions-legales\">Mentions Légales</a>,\n",
       " <a href=\"/fr/plan-du-site\">Plan du site</a>,\n",
       " <a class=\"footer-contact\" href=\"/fr/contact\">Contacter ESIEE Paris</a>,\n",
       " <a href=\"https://www.univ-gustave-eiffel.fr\" target=\"_blank\">\n",
       " <div class=\"image\"><img alt=\"Membre fondateur Université Gustave Eiffel\" src=\"/sites/default/files/logo_membre_fondateur_univ_gustave_eiffel.png\" title=\"Membre fondateur Université Gustave Eiffel\"/></div>\n",
       " </a>,\n",
       " <a href=\"https://www.cci-paris-idf.fr\" target=\"_blank\">\n",
       " <div class=\"image\"><img alt=\"CCI Paris Île-de-France Éducation\" height=\"41\" src=\"https://www.esiee.fr/sites/default/files/thumbnails/image/logo-cci-paris.png\" title=\"CCI Paris Île-de-France Éducation\" width=\"150\"/></div>\n",
       " </a>,\n",
       " <a href=\"https://www.facebook.com/esieeparis\" target=\"_blank\">\n",
       " <i class=\"fa fa-facebook\"></i>\n",
       " </a>,\n",
       " <a href=\"https://twitter.com/ESIEEPARIS\" target=\"_blank\">\n",
       " <i class=\"fa fa-twitter\"></i>\n",
       " </a>,\n",
       " <a href=\"https://www.linkedin.com/edu/school?id=20041&amp;trk=tyah&amp;trkInfo=idx%3A4-1-4%2CtarId%3A1425998561386%2Ctas%3Aesiee+paris\" target=\"_blank\">\n",
       " <i class=\"fa fa-linkedin\"></i>\n",
       " </a>,\n",
       " <a href=\"http://www.youtube.com/esieeparis\" target=\"_blank\">\n",
       " <i class=\"fa fa-youtube\"></i>\n",
       " </a>,\n",
       " <a href=\"https://www.instagram.com/esieeparis/\" target=\"_blank\">\n",
       " <i class=\"fa fa-instagram\"></i>\n",
       " </a>]"
      ]
     },
     "execution_count": 84,
     "metadata": {},
     "output_type": "execute_result"
    }
   ],
   "source": [
    "a.findLinks()"
   ]
  },
  {
   "cell_type": "code",
   "execution_count": 85,
   "metadata": {},
   "outputs": [
    {
     "data": {
      "text/plain": [
       "\" \\n\\n\\n\\n\\n\\n\\n\\n\\n\\nESIEE Paris, l’école de l’innovation technologique | Grande école d’ingénieurs | ESIEE Paris\\n\\n\\n\\n\\n\\n\\n\\n\\n\\n\\n\\n\\n\\n\\n\\n \\n\\n\\n\\n\\n\\n\\n\\n\\n\\n\\n\\nLes outils ESIEE Paris Webmail ESIEE Paris Emploi du temps général Emploi du temps individuel Extranet iCampus Blackboard Microsoft DreamSpark \\n\\n\\n\\n\\n\\n\\n\\n\\n\\n\\n\\n\\n\\n\\n\\n\\n\\n\\n\\n\\n\\n\\n\\n\\n\\n\\n\\n\\n\\n\\n\\n\\n\\n\\n\\n\\n\\n\\n\\n\\n\\n\\n\\n\\n\\n\\n menu\\nFormations\\n\\n\\nRETOUR menu\\nFormations ESIEE ParisIngénieur\\n\\n\\nIngénieur\\nRETOUR Formations\\nIngénieur ESIEE ParisPremier cycleLe cycle ingénieur\\n\\n\\nLe cycle ingénieur\\nRETOUR Ingénieur\\nLe cycle ingénieur ESIEE ParisEnseignements de 1ère annéeEnseignements de 2e et 3e annéeProfils métiersFilières\\n\\n\\nFilières\\nRETOUR Ingénieur\\n9 filières, 1 diplômeInformatiqueCybersécuritéDatascience et intelligence artificielleArtificial Intelligence and CybersecuritySystèmes embarquésSystèmes électroniques intelligentsGénie industrielBiotechnologies et e-santéEnergieDoubles-diplômesEmplois et salairesFrais de scolarité - Aides financièresStagesAdmissionsContactIngénieur par apprentissage\\n\\n\\nIngénieur par apprentissage\\nRETOUR Formations\\nDevenir ingénieur par l'apprentissageRéseaux et sécurité\\n\\n\\nRéseaux et sécurité\\nRETOUR Ingénieur par apprentissage\\nRéseaux et sécuritéProgramme des enseignementsSystèmes embarqués\\n\\n\\nSystèmes embarqués\\nRETOUR Ingénieur par apprentissage\\nSystèmes embarqués - transports et objets intelligentsProgramme des enseignementsInformatique et applications\\n\\n\\nInformatique et applications\\nRETOUR Ingénieur par apprentissage\\nInformatique et applications - ingénierie graphique et technologies 3DProgramme des enseignementsGénie industriel\\n\\n\\nGénie industriel\\nRETOUR Ingénieur par apprentissage\\nGénie industriel - Supply chain et numériqueProgramme des enseignementsEnergies\\n\\n\\nEnergies\\nRETOUR Ingénieur par apprentissage\\nEnergies - Ingénierie de la transition énergétiqueProgramme des enseignementsApprentissage : mode d'emploiAdmissionsContactBachelor\\n\\n\\nBachelor\\nRETOUR Formations\\nBachelor BESTmPoursuites d'études - MétiersAdmissionsMasters internationaux\\n\\n\\nMasters internationaux\\nRETOUR Formations\\nProgrammes internationauxMaster - Artificial Intelligence and CybersecurityM.Sc. Connected Objects, Devices and SystemsM.Sc. Management of Technology - Information SystemsContactFormation continue\\n\\n\\nFormation continue\\nRETOUR Formations\\nFormation continueCybersécurité\\n\\n\\nCybersécurité\\nRETOUR Formation continue\\nInitiation aux systèmes d’informationInitiation et implémentation des ERPInitiation à la sécurité web et ses vulnérabilitésSécurité des systèmes et des réseaux niveau avancéSécurité des systèmes et des réseaux niveau (expert)Découverte de la cryptographieDétection intrusions : gestion des incidents de sécuritéSensibilisation aux Normes Iso et au RGPD de la CNILAudit des SI et réseauxSalle blanche\\n\\n\\nSalle blanche\\nRETOUR Formation continue\\nDécouverte des technologies de salle blancheInitiation aux technologies de microfabricationFAQContactEspace étudiants\\n\\n\\nRETOUR menu\\nLa vie étudianteL'associatif\\n\\n\\nL'associatif\\nRETOUR Espace étudiants\\nBureau des élèvesJunior ESIEEClubs et associationsAménagements d'étudesBibliothèque 4.0LogementsSportCampus DescartesRelais handicapEquipements\\n\\n\\nEquipements\\nRETOUR Espace étudiants\\nLe centre de languesLaboratoiresOrdinateurs portablesRessources numériquesFinancer vos étudesVidéothèqueRestaurationL'école\\n\\n\\nRETOUR menu\\nQui sommes nous ?GouvernanceConseil ScientifiqueLes départements d'enseignements et de recherche\\n\\n\\nLes départements d'enseignements et de recherche\\nRETOUR L'école\\n4 départementsInformatiqueIngénierie des systèmesSanté, énergie, environnementManagement de la technologie et languesCorps enseignant\\n\\n\\nCorps enseignant\\nRETOUR L'école\\nLes enseignants-chercheursCV du corps professoralLes salles blanches\\n\\n\\nLes salles blanches\\nRETOUR L'école\\nLes salles blanchesEquipements et procédés\\n\\n\\nEquipements et procédés\\nRETOUR Les salles blanches\\nÉquipements et ProcédésPhotolithographieTraitements thermiquesDépôts de couches mincesElectrodépositionGravures plasmaGravure humide et nettoyageScellement de substratsMétrologiePlate-forme SEM/FIBPackagingRecherche et collaborationsEquipeContactESIEE Paris recruteESIEE ConnectWebserie Yann LeCun et ESIEE ParisVisite virtuelle ESIEE ParisAnnuaireLa recherche\\n\\n\\nRETOUR menu\\nAccueil3 axes de recherche\\n\\n\\n3 axes de recherche\\nRETOUR La recherche\\n3 axes de rechercheVille durableSantéInnovation & sociétéLaboratoires\\n\\n\\nLaboratoires\\nRETOUR La recherche\\nLaboratoires partenairesLaboratoires associésSe former à la recherche\\n\\n\\nSe former à la recherche\\nRETOUR La recherche\\nEcoles doctoralesMasters RecherchePartenariats entreprisePlateformes et équipementsPublications\\n\\n\\nPublications\\nRETOUR La recherche\\nHal ESIEEPublications des 12 derniers moisPublications 2017-2018Publications avant 2016Informations et contactEntreprises\\n\\n\\nRETOUR menu\\nL'entreprise partenaire\\n\\n\\nL'entreprise partenaire\\nRETOUR Entreprises\\nL'entreprise partenaireElaborez une chaire d'enseignement et de rechercheDevenez parrain de promotionDéposez une offre d'emploi, de stage et d'apprentissageContactez-nousRecrutez nos étudiants\\n\\n\\nRecrutez nos étudiants\\nRETOUR Entreprises\\nAccueillez un stagiaireRecrutez un apprentiParticipez aux événements école-entreprisesConsultez l'enquête emploiContactez les alumniDéposez une offre d'emploi, de stage et d'apprentissageContactez-nousFormez vos collaborateursDéveloppez vos projets technologiques\\n\\n\\nDéveloppez vos projets technologiques\\nRETOUR Entreprises\\nUtilisez nos plateformes technologiquesCollaborez avec la R&D de ESIEE ParisContactez-nousSoutenez nos projets\\n\\n\\nSoutenez nos projets\\nRETOUR Entreprises\\nVersez votre taxe d'apprentissageDevenez mécèneInvestissez dans l'équipement pédagogiqueSoutenez la rechercheContactez-nousLouez nos espacesDéposez une offre d'emploi, de stage et d'apprentissageUne question ? Contactez-nousInternational\\n\\n\\nRETOUR menu\\nUne large ouverture à l'internationalPartenaires académiquesEtudier à l'étrangerErasmus +Etudiants en échangeVenir étudier à ESIEE ParisProgrammes internationauxCampus à l'étrangerLes diplômés à l'internationalContact  \\n\\n \\n\\n\\n\\n\\n\\n\\n\\n\\n\\n\\n\\n\\n \\n\\n\\nIngénieur\\nDécouvrir la formationFilières et métiersEmplois et salairesAdmissions & inscriptions\\n \\n\\n\\n\\nIngénieur par apprentissage\\nDécouvrir la formationEmplois et salairesApprentissage : mode d'emploiAdmissions & inscriptions\\n \\n\\n\\n\\nBachelor\\nDécouvrir la formationPoursuites d'études et métiersAdmissions\\n \\n\\n\\n\\nProgrammes internationaux\\nDécouvrir la formationAdmissions & inscriptions\\n \\n\\n\\nFormations\\nIngénieur\\nIngénieur par apprentissage\\nBachelor\\nProgrammes internationaux\\n\\n\\n\\nFormations\\n\\n\\n\\n\\n\\nIngénieur\\n\\n\\n\\n\\n\\n\\nIngénieur par apprentissage\\n\\n\\n\\n\\n\\n\\nBachelor\\n\\n\\n\\n\\n\\n\\nProgrammes internationaux\\n\\n\\n\\n\\n\\n\\n\\n\\n\\nActualités\\n\\nLire plus d'actualités\\n\\n\\n17.12.2021\\nSalons\\n\\n\\nRetrouvez ESIEE Paris au salon de l'apprentissage\\n\\nESIEE Paris vous donne rendez-vous les 14 et 15 janvier 2022 au salon de l'apprentissage organisé par l’Étudiant à Paris. \\n\\n12.03.2021\\nClassement\\n\\n\\nESIEE Paris 11e meilleure école d’ingénieurs -\\xa0HappyAtSchool 2021\\n\\nDans un contexte compliqué, particulièrement éprouvant pour les étudiants, ESIEE Paris se distingue au classement HappyAtSchool 2021. \\n\\n14.12.2021\\nEvènements\\n\\n\\nESIEE Paris co-organise une école thématique du CNRS : Interface\\n\\nESIEE Paris accueille et co-organise une Ecole thématique du CNRS du 13 au 17 décembre 2021 \\n\\n02.11.2021\\nActualités\\n\\n\\nYann LeCun et Camille Couprie, diplômés ESIEE Paris à l’honneur sur TF1 \\n\\n« Yann LeCun, l’inventeur qui a révolutionné notre quotidien »\\xa0 \\n\\n07.12.2021\\nEntreprises\\n\\n\\nRecrutez vos stagiaires : du stage de découverte au stage de fin d’études\\n\\nUne opportunité pour vous, entreprises, de collaborer avec de futurs ingénieurs capables d’anticiper et de suivre les évolutions technologiques. \\n\\n18.11.2021\\nConcours\\n\\n\\nDes étudiant.es ESIEE Paris remportent le prix de la catégorie Étudiant du Handitech Trophy 2021\\n\\nLe projet EchoSign a retenu l'attention du jury. Ce prix leur a été remis le 15 novembre dernier. \\n\\n09.12.2021\\nFormations\\n\\n\\nLes salles blanches à l’honneur aux journées pédagogiques du CNFM\\n\\nLes équipes ESIEE Paris présentent les salles blanches \\n\\n27.10.2021\\nActualités\\n\\n\\nNouvelle unité d’enseignement autour du handicap à ESIEE Paris \\n\\nLes soutenances finales des projets ont eu lieu ce jeudi 28 octobre 2021 \\n\\n18.10.2021\\nConcours\\n\\n\\nBiomimétisme pour construire les villes de demain : nos élèves ingénieur-es innovent !\\n\\n6 élèves de ESIEE Paris et de l’ESIPE, deux écoles d’ingénieurs de l’Université Gustave Eiffel, remportent le 2e prix d’un concours. \\n\\n03.05.2021\\nInternational\\n\\n\\nL’Université Gustave Eiffel dans le Top des universités mondiales du CWUR\\n\\nLe 26 avril 2021, le Center for World University Rankings (CWUR) a publié son classement des 2000 meilleurs établissements d’enseignement supérieur du monde. \\n\\n05.09.2019\\nActualités\\n\\n\\nLe Groupe Renault parrain des prochaines promotions ESIEE Paris\\n\\nLe Groupe Renault sera le parrain des promotions 2020, 2021 et 2022 de ESIEE Paris. \\n\\n25.10.2021\\nConcours\\n\\n\\nPréparez-vous au Concours Puissance Alpha 2022 à ESIEE Paris !\\n\\nRendez-vous le samedi 19 mars pour une session gratuite \\n\\n\\n\\n\\n\\n\\n\\n  Classements\\n\\n\\n\\n\\n\\n\\n  2e école post-bac d'Ile-de-France selon le classement de l'Etudiant 2021 ! ESIEE Paris gagne 7 places au classement du Figaro 2021. 6e école d'ingénieurs post-bac selon le classement Eduniversal 2021.\\n\\n\\nEn savoir plus\\n\\n\\n\\n\\n\\n\\n  Recrutement - Stages\\n\\n\\n\\n\\n\\n\\n  Entreprises, collaborer avec les élèves ingénieurs est l’opportunité de les former aux méthodes de travail, aux spécificités et à la culture de votre entreprise.\\n\\n\\nEn savoir plus\\n\\n\\n\\n\\n\\n\\n\\n \\n\\n\\n\\n \\n\\n\\n\\n \\n\\n\\n\\n \\n\\n\\n\\n \\n\\n\\n\\n \\n\\n\\n\\n\\n\\n\\n\\n \\n\\n\\n\\n \\n\\n\\n\\n \\n\\n\\n\\n \\n\\n\\n\\n \\n\\n\\n\\n \\n\\n\\n\\n\\n\\n\\n\\n \\n\\n\\n\\n \\n\\n\\n\\n \\n\\n\\n\\n \\n\\n\\n\\n \\n\\n\\n\\n \\n\\n\\n \\n\\n\\nDomaines de compétences\\n\\n\\n\\n\\n\\n\\n\\n\\nEnergie - Energies renouvelables et efficacité énergétique\\n\\n\\nIngénieur\\n\\nLire la suite\\n\\n\\n\\n\\n\\n\\n\\nInformatique\\n\\n\\nIngénieur\\n\\nLire la suite\\n\\n\\n\\n\\n\\n\\n\\nGénie industriel\\n\\n\\nIngénieur\\n\\nLire la suite\\n\\n\\n\\n\\n\\n\\n\\nSystèmes embarqués - Transports et objects intelligents\\n\\n\\nIngénieur par apprentissage\\n\\nLire la suite\\n\\n\\n\\n\\n\\n\\n\\nSystèmes embarqués\\n\\n\\nIngénieur\\n\\nLire la suite\\n\\n\\n\\n\\n\\n\\n\\nBiotechnologies et e-santé\\n\\n\\nIngénieur\\n\\nLire la suite\\n\\n\\n\\n\\n\\n\\n\\nArtificial intelligence and cybersecurity\\n\\n\\nIngénieur\\n\\nLire la suite\\n\\n\\n\\n\\n\\n\\n\\nEnergies - Ingénierie de la transition énergétique\\n\\n\\nIngénieur par apprentissage\\n\\nLire la suite\\n\\n\\n\\n\\n\\n\\n\\nCybersécurité\\n\\n\\nIngénieur\\n\\nLire la suite\\n\\n\\n\\n\\n\\n\\n\\nRéseaux et sécurité - Architecture et internet des objets\\n\\n\\nIngénieur par apprentissage\\n\\nLire la suite\\n\\n\\n\\n\\n\\n\\n\\nSystèmes électroniques intelligents\\n\\n\\nIngénieur\\n\\nLire la suite\\n\\n\\n\\n\\n\\n\\n\\nGénie industriel - Supply chain et numérique\\n\\n\\nIngénieur par apprentissage\\n\\nLire la suite\\n\\n\\n\\n\\n\\n\\n\\nEconomie, Sciences et Technologies Multimedia\\n\\n\\nBachelor\\n\\nLire la suite\\n\\n\\n\\n\\n\\n\\n\\nInformatique et applications\\n\\n\\nIngénieur par apprentissage\\n\\nLire la suite\\n\\n\\n\\n\\n\\n\\n\\nDatascience et intelligence artificielle\\n\\n\\nIngénieur\\n\\nLire la suite\\n\\n\\n\\n\\n\\n\\n\\n\\n\\n\\n\\n\\nESIEE Paris\\n2 boulevard Blaise PascalCité DescartesBP 9993162 Noisy-le-Grand CedexTel : 01 45 92 65 00\\xa0\\n\\n\\n\\nPlan d'accès\\nBrochures\\nNous rencontrer\\nPresse\\nLe Jour des Projets\\nVidéothèque\\nLocation d'espaces\\nTravailler à ESIEE Paris\\nRéseaux sociaux\\nVisite virtuelle\\nAlumni\\nMentions Légales\\nPlan du site\\n\\n\\n\\nContacter ESIEE Paris\\n\\n\\n\\n\\n\\n\\n\\n\\n\\n\\n\\n\\n\\n\\n\\n\\n\\n\\n\\n\\n\\n\\n\\n\\n\\n\\n\\n\\n\\n\\n\\n\\n\\n\\n\\n\\n\\n\\n\\n\\n\\n\\n\\n\\n\\n\\n\\n\\n\\n\\n\\n\\n\\n\\n\\n\\n\\n\\n\\n\""
      ]
     },
     "execution_count": 85,
     "metadata": {},
     "output_type": "execute_result"
    }
   ],
   "source": [
    "a.findText()"
   ]
  },
  {
   "cell_type": "markdown",
   "metadata": {},
   "source": [
    "# Exploitation des appels d'API\n"
   ]
  },
  {
   "cell_type": "markdown",
   "metadata": {},
   "source": [
    "\n",
    "Losque le front du site récupère des données sur une API géré par le back, un appel d'API est réalisé. Cet appel est recensé dans les appels réseaux. Il est alors possible de re-jouer cet appel pour récupérer à nouveau les données. Il est très facile de récupérer ces appels dans l'onglet Network de la console développeur de Chrome ou FireFox. La console vous permet de copier le code CURL pour effectuée et vous pouvez ensuite la transformer en code Python depuis le site https://curl.trillworks.com/.\n",
    "\n",
    "Souvent les APIs sont bloquées avec certain paramètres. L'API verifie que dans les headers de la requêtes HTTP ces paramètres sont présents : * un token généré à la volée avec des protocole OAuth2 (ou moins développés). * un referer provenant du site web (la source de la requête), très facile à falsifier.\n",
    "\n"
   ]
  },
  {
   "cell_type": "markdown",
   "metadata": {},
   "source": [
    "## Exercice \n",
    "### Exercice 4\n",
    "\n",
    "- Utiliser les informations développées plus haut pour récupérer les premiers résultats d'une recherche d'une requête\n",
    "sur Qwant. \n",
    "\n",
    "Tips : \n",
    "\n",
    "- Aller sur https://www.qwant.com/\n",
    "- Ouvrir les outils de développements de Chrome ou Firefox\n",
    "- Onglet Network\n",
    "- Fouiller dans les requêtes"
   ]
  },
  {
   "cell_type": "code",
   "execution_count": null,
   "metadata": {},
   "outputs": [],
   "source": []
  },
  {
   "cell_type": "markdown",
   "metadata": {},
   "source": [
    "# Exercice Final  "
   ]
  },
  {
   "cell_type": "markdown",
   "metadata": {},
   "source": [
    "Exercice Final\n",
    "Utilisez tout ce que vous avez appris pour récupérer des articles de News avec une catégorie. Il est souvent intéressant de partir des flux RSS pour commencer :\n",
    "\n",
    "Les données doivent comprendre :\n",
    "- Le texte important propre\n",
    "- L'url\n",
    "- Le domaine\n",
    "- la catégorie\n",
    "- Le titre de l'article\n",
    "- Le titre de la page\n",
    "- (Facultatif) : les images\n",
    "\n",
    "Tips : \n",
    "\n",
    "- Taper le nom de votre média favoris + RSS (par exemple : https://www.lemonde.fr/rss/)\n",
    "- Aller dans le DOM de la page \n",
    "- Trouver les catégories et les liens vers les articles"
   ]
  },
  {
   "cell_type": "code",
   "execution_count": null,
   "metadata": {},
   "outputs": [],
   "source": []
  }
 ],
 "metadata": {
  "kernelspec": {
   "display_name": "Python 3 (ipykernel)",
   "language": "python",
   "name": "python3"
  },
  "language_info": {
   "codemirror_mode": {
    "name": "ipython",
    "version": 3
   },
   "file_extension": ".py",
   "mimetype": "text/x-python",
   "name": "python",
   "nbconvert_exporter": "python",
   "pygments_lexer": "ipython3",
   "version": "3.8.12"
  }
 },
 "nbformat": 4,
 "nbformat_minor": 2
}
